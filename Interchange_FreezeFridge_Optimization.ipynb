{
  "cells": [
    {
      "cell_type": "markdown",
      "metadata": {
        "id": "INX9gsI2W-kU"
      },
      "source": [
        "# Final Project - Nolan & Calvin"
      ]
    },
    {
      "cell_type": "markdown",
      "metadata": {},
      "source": [
        "https://colab.research.google.com/drive/1M_ghrBpds2rQkPfJW9V6vCRifFLJzDbv?usp=sharing CLICK HERE TO VIEW ALL OUIPUTS!!! - NOLAN"
      ]
    },
    {
      "cell_type": "code",
      "execution_count": null,
      "metadata": {
        "id": "d3HVnIcGAdlt"
      },
      "outputs": [],
      "source": [
        "!pip install -q amplpy ampltools pandas"
      ]
    },
    {
      "cell_type": "code",
      "execution_count": null,
      "metadata": {
        "colab": {
          "base_uri": "https://localhost:8080/"
        },
        "id": "wuRA6uBGqZ7_",
        "outputId": "abd48a05-fe48-4fa6-e91b-8ea2fcc490da"
      },
      "outputs": [
        {
          "name": "stdout",
          "output_type": "stream",
          "text": [
            "Licensed to Bundle #6378.6763 expiring 20240531: INFO 645 Prescriptive Analytics, Atma Iyer, Virginia Commonwealth University.\n"
          ]
        }
      ],
      "source": [
        "# Google Colab & AMPL integration\n",
        "MODULES, LICENSE_UUID = [\"coin\", 'gurobi', \"cplex\", \"highs\", \"gokestrel\"], \"a3cb9024-0b17-4508-ae2b-528e312a26ec\"\n",
        "\n",
        "from amplpy import tools\n",
        "from ampltools import cloud_platform_name, ampl_notebook, register_magics\n",
        "\n",
        "# instantiate AMPL object and register magics\n",
        "if cloud_platform_name() is None:\n",
        "    ampl = AMPL() # Use local installation of AMPL\n",
        "else:\n",
        "    ampl = tools.ampl_notebook(modules=MODULES, license_uuid=LICENSE_UUID, g=globals())\n",
        "\n",
        "register_magics(ampl_object=ampl)"
      ]
    },
    {
      "cell_type": "code",
      "execution_count": null,
      "metadata": {
        "colab": {
          "base_uri": "https://localhost:8080/"
        },
        "id": "Kzt5XdtlqZ-5",
        "outputId": "26e8188d-8fe8-43e6-c159-f364a8f4c585"
      },
      "outputs": [
        {
          "name": "stdout",
          "output_type": "stream",
          "text": [
            "Drive already mounted at /content/drive; to attempt to forcibly remount, call drive.mount(\"/content/drive\", force_remount=True).\n"
          ]
        }
      ],
      "source": [
        "from google.colab import drive\n",
        "drive.mount('/content/drive')"
      ]
    },
    {
      "cell_type": "code",
      "execution_count": null,
      "metadata": {
        "colab": {
          "base_uri": "https://localhost:8080/"
        },
        "id": "CoxjX4mUqaBt",
        "outputId": "d6d780a3-c3a0-4f3a-9d56-d964007e0c74"
      },
      "outputs": [
        {
          "name": "stdout",
          "output_type": "stream",
          "text": [
            "SKUs =  [1301, 1306, 1511, 1521, 1552, 1710, 1752, 5000, 5012, 5013, 5021, 5025, 5026, 5027, 5028, 5030, 5315, 5040, 5055, 5064, 5070, 5071, 5072, 5073, 5074, 5075, 5076, 5077, 5078, 5079, 5110, 5111, 5116, 5119, 5120, 5122, 5211, 5309, 5310, 5311, 5330, 5331, 5332, 5333, 5334, 5335, 5336, 5337, 5338, 5339, 5406, 5455, 5509, 5510, 5519, 5527, 5528, 5533, 5605, 5606, 5650, 5651, 5652, 5653, 5701, 5702, 5703, 5710, 5711, 5712, 5715, 8003, 8006, 8523, 10018, 11018, 11217, 11418, 12218, 13018, 14017, 14217, 14220, 14417, 14617, 14620, 14917, 15017, 15117, 15319, 16018, 30128, 31328, 31528, 31928, 32228, 33128, 34627, 34828, 35027, 35028, 36428, 39728, 40028, 40328, 42828, 43028, 43127, 43227, 43328, 44728, 44838, 49128, 49238, 49278, 49428, 49538, 49828, 31227, 33198, 42328, 42398, 47898, 49228, 49628]\n",
            "Min Time to Freeze for each SKU =  {1301: 51.25, 1306: 27.75, 1511: 46.0, 1521: 51.25, 1552: 51.25, 1710: 51.25, 1752: 51.25, 5000: 51.25, 5012: 51.25, 5013: 51.25, 5021: 51.25, 5025: 46.0, 5026: 41.5, 5027: 33.0, 5028: 27.75, 5030: 27.75, 5315: 51.25, 5040: 46.0, 5055: 51.25, 5064: 51.25, 5070: 33.0, 5071: 41.5, 5072: 27.75, 5073: 46.0, 5074: 51.25, 5075: 41.5, 5076: 51.25, 5077: 46.0, 5078: 51.25, 5079: 51.25, 5110: 46.0, 5111: 46.0, 5116: 27.75, 5119: 46.0, 5120: 41.5, 5122: 46.0, 5211: 51.25, 5309: 51.25, 5310: 51.25, 5311: 27.75, 5330: 51.25, 5331: 51.25, 5332: 46.0, 5333: 41.5, 5334: 33.0, 5335: 41.5, 5336: 27.75, 5337: 46.0, 5338: 51.25, 5339: 51.25, 5406: 33.0, 5455: 41.5, 5509: 43.0, 5510: 46.0, 5519: 46.0, 5527: 51.25, 5528: 36.25, 5533: 51.25, 5605: 51.25, 5606: 46.0, 5650: 51.25, 5651: 51.25, 5652: 51.25, 5653: 51.25, 5701: 51.25, 5702: 51.25, 5703: 51.25, 5710: 41.5, 5711: 33.0, 5712: 27.75, 5715: 51.25, 8003: 51.25, 8006: 51.25, 8523: 27.75, 10018: 72.0, 11018: 43.75, 11217: 56.0, 11418: 72.0, 12218: 72.0, 13018: 72.0, 14017: 52.25, 14217: 55.75, 14220: 55.75, 14417: 61.25, 14617: 54.5, 14620: 54.5, 14917: 50.0, 15017: 54.75, 15117: 56.5, 15319: 50.0, 16018: 34.0, 30128: 61.5, 31328: 34.0, 31528: 37.25, 31928: 43.75, 32228: 72.0, 33128: 72.0, 34627: 54.5, 34828: 31.0, 35027: 54.75, 35028: 34.0, 36428: 34.0, 39728: 69.25, 40028: 72.0, 40328: 70.25, 42828: 34.0, 43028: 72.0, 43127: 54.5, 43227: 54.75, 43328: 34.0, 44728: 34.0, 44838: 26.25, 49128: 53.5, 49238: 72.0, 49278: 70.25, 49428: 72.0, 49538: 43.75, 49828: 37.25, 31227: 56.0, 33198: 72.0, 42328: 72.0, 42398: 72.0, 47898: 53.5, 49228: 72.0, 49628: 34.0}\n",
            "Cells =  ['L265121', 'L265122', 'L265123', 'L265124', 'L265125', 'L265126', 'L266121', 'L266122', 'L266123', 'L266124', 'L266125', 'L266126', 'L265131', 'L265132', 'L265133', 'L265134', 'L265135', 'L265136', 'L266131', 'L266132', 'L266133', 'L266134', 'L266135', 'L266136', 'L265141', 'L265142', 'L265143', 'L265144', 'L265145', 'L265146', 'L266141', 'L266142', 'L266143', 'L266144', 'L266145', 'L266146', 'L265151', 'L265152', 'L265153', 'L265154', 'L265155', 'L265156', 'L266151', 'L266152', 'L266153', 'L266154', 'L266155', 'L266156', 'L265161', 'L265162', 'L265163', 'L265164', 'L265165', 'L265166', 'L266161', 'L266162', 'L266163', 'L266164', 'L266165', 'L266166', 'L265171', 'L265172', 'L265173', 'L265174', 'L265175', 'L265176', 'L266171', 'L266172', 'L266173', 'L266174', 'L266175', 'L266176', 'L265181', 'L265182', 'L265183', 'L265184', 'L265185', 'L265186', 'L266181', 'L266182', 'L266183', 'L266184', 'L266185', 'L266186', 'L265191', 'L265192', 'L265193', 'L265194', 'L265195', 'L265196', 'L266191', 'L266192', 'L266193', 'L266194', 'L266195', 'L266196', 'L265201', 'L265202', 'L265203', 'L265204', 'L265205', 'L265206', 'L266201', 'L266202', 'L266203', 'L266204', 'L266205', 'L266206', 'L265211', 'L265212', 'L265213', 'L265214', 'L265215', 'L265216', 'L266211', 'L266212', 'L266213', 'L266214', 'L266215', 'L266216', 'L265221', 'L265222', 'L265223', 'L265224', 'L265225', 'L265226', 'L266221', 'L266222', 'L266223', 'L266224', 'L266225', 'L266226', 'L265231', 'L265232', 'L265233', 'L265234', 'L265235', 'L265236', 'L266231', 'L266232', 'L266233', 'L266234', 'L266235', 'L266236', 'L265241', 'L265242', 'L265243', 'L265244', 'L265245', 'L265246', 'L266241', 'L266242', 'L266243', 'L266244', 'L266245', 'L266246', 'L265251', 'L265252', 'L265253', 'L265254', 'L265255', 'L265256', 'L266251', 'L266252', 'L266253', 'L266254', 'L266255', 'L266256', 'L265261', 'L265262', 'L265263', 'L265264', 'L265265', 'L265266', 'L266261', 'L266262', 'L266263', 'L266264', 'L266265', 'L266266', 'L265271', 'L265272', 'L265273', 'L265274', 'L265275', 'L265276', 'L266271', 'L266272', 'L266273', 'L266274', 'L266275', 'L266276', 'L265281', 'L265282', 'L265283', 'L265284', 'L265285', 'L265286', 'L266281', 'L266282', 'L266283', 'L266284', 'L266285', 'L266286', 'L265291', 'L265292', 'L265293', 'L265294', 'L265295', 'L265296', 'L266291', 'L266292', 'L266293', 'L266294', 'L266295', 'L266296', 'L265301', 'L265302', 'L265303', 'L265304', 'L265305', 'L265306', 'L266301', 'L266302', 'L266303', 'L266304', 'L266305', 'L266306', 'L265311', 'L265312', 'L265313', 'L265314', 'L265315', 'L265316', 'L266311', 'L266312', 'L266313', 'L266314', 'L266315', 'L266316', 'L265321', 'L265322', 'L265323', 'L265324', 'L265325', 'L265326', 'L266321', 'L266322', 'L266323', 'L266324', 'L266325', 'L266326', 'L265331', 'L265332', 'L265333', 'L265334', 'L265335', 'L265336', 'L266331', 'L266332', 'L266333', 'L266334', 'L266335', 'L266336', 'L265341', 'L265342', 'L265343', 'L265344', 'L265345', 'L265346', 'L266341', 'L266342', 'L266343', 'L266344', 'L266345', 'L266346', 'L265351', 'L265352', 'L265353', 'L265354', 'L265355', 'L265356', 'L266351', 'L266352', 'L266353', 'L266354', 'L266355', 'L266356']\n",
            "Remaining time to freeze in a cell =  {'L265121': 45.24, 'L265122': 40.01, 'L265123': 0.0, 'L265124': 40.06, 'L265125': 35.58, 'L265126': 30.36, 'L266121': 0.0, 'L266122': 0.0, 'L266123': 0.0, 'L266124': 0.0, 'L266125': 0.0, 'L266126': 0.0, 'L265131': 26.67, 'L265132': 26.69, 'L265133': 0.87, 'L265134': 6.17, 'L265135': 45.02, 'L265136': 21.66, 'L266131': 0.0, 'L266132': 40.28, 'L266133': 50.02, 'L266134': 68.15, 'L266135': 68.12, 'L266136': 68.1, 'L265141': 0.0, 'L265142': 0.85, 'L265143': 0.0, 'L265144': 24.54, 'L265145': 21.72, 'L265146': 26.94, 'L266141': 30.22, 'L266142': 0.0, 'L266143': 68.24, 'L266144': 0.0, 'L266145': 0.0, 'L266146': 0.0, 'L265151': 0.0, 'L265152': 0.0, 'L265153': 0.0, 'L265154': 0.0, 'L265155': 0.0, 'L265156': 0.0, 'L266151': 0.0, 'L266152': 0.0, 'L266153': 0.0, 'L266154': 0.0, 'L266155': 0.0, 'L266156': 0.0, 'L265161': 0.0, 'L265162': 0.0, 'L265163': 0.99, 'L265164': 52.05, 'L265165': 0.0, 'L265166': 37.19, 'L266161': 0.0, 'L266162': 0.0, 'L266163': 0.0, 'L266164': 0.0, 'L266165': 0.0, 'L266166': 0.0, 'L265171': 24.58, 'L265172': 24.57, 'L265173': 1.05, 'L265174': 52.0, 'L265175': 40.14, 'L265176': 21.92, 'L266171': 0.0, 'L266172': 0.0, 'L266173': 0.0, 'L266174': 0.0, 'L266175': 68.27, 'L266176': 0.0, 'L265181': 24.61, 'L265182': 1.1, 'L265183': 1.13, 'L265184': 24.65, 'L265185': 30.47, 'L265186': 35.74, 'L266181': 0.0, 'L266182': 0.0, 'L266183': 0.0, 'L266184': 0.0, 'L266185': 0.0, 'L266186': 49.85, 'L265191': 0.0, 'L265192': 0.0, 'L265193': 0.0, 'L265194': 0.0, 'L265195': 0.0, 'L265196': 0.0, 'L266191': 0.0, 'L266192': 0.0, 'L266193': 0.0, 'L266194': 0.0, 'L266195': 0.0, 'L266196': 0.0, 'L265201': 50.68, 'L265202': 0.0, 'L265203': 50.72, 'L265204': 50.78, 'L265205': 33.61, 'L265206': 0.0, 'L266201': 51.77, 'L266202': 23.55, 'L266203': 50.85, 'L266204': 50.8, 'L266205': 52.81, 'L266206': 24.65, 'L265211': 50.59, 'L265212': 0.0, 'L265213': 50.66, 'L265214': 50.75, 'L265215': 0.0, 'L265216': 27.34, 'L266211': 51.88, 'L266212': 23.67, 'L266213': 51.95, 'L266214': 23.6, 'L266215': 24.62, 'L266216': 49.87, 'L265221': 0.0, 'L265222': 0.0, 'L265223': 0.0, 'L265224': 0.0, 'L265225': 33.28, 'L265226': 9.92, 'L266221': 27.23, 'L266222': 0.0, 'L266223': 32.59, 'L266224': 32.69, 'L266225': 28.22, 'L266226': 68.39, 'L265231': 0.0, 'L265232': 32.28, 'L265233': 32.33, 'L265234': 32.42, 'L265235': 33.38, 'L265236': 28.08, 'L266231': 27.26, 'L266232': 27.31, 'L266233': 0.0, 'L266234': 32.72, 'L266235': 28.29, 'L266236': 68.41, 'L265241': 70.2, 'L265242': 0.0, 'L265243': 70.04, 'L265244': 70.02, 'L265245': 70.2, 'L265246': 27.31, 'L266241': 70.0, 'L266242': 0.0, 'L266243': 0.0, 'L266244': 0.0, 'L266245': 0.0, 'L266246': 0.0, 'L265251': 69.99, 'L265252': 70.04, 'L265253': 70.05, 'L265254': 70.01, 'L265255': 0.0, 'L265256': 30.63, 'L266251': 69.98, 'L266252': 69.97, 'L266253': 0.0, 'L266254': 49.99, 'L266255': 68.51, 'L266256': 0.0, 'L265261': 0.0, 'L265262': 0.0, 'L265263': 0.0, 'L265264': 0.0, 'L265265': 0.0, 'L265266': 0.0, 'L266261': 0.0, 'L266262': 0.0, 'L266263': 0.0, 'L266264': 0.0, 'L266265': 0.0, 'L266266': 0.0, 'L265271': 0.0, 'L265272': 0.0, 'L265273': 0.0, 'L265274': 0.0, 'L265275': 0.0, 'L265276': 0.0, 'L266271': 0.0, 'L266272': 0.0, 'L266273': 0.0, 'L266274': 0.0, 'L266275': 0.0, 'L266276': 0.0, 'L265281': 0.0, 'L265282': 0.0, 'L265283': 0.0, 'L265284': 0.0, 'L265285': 0.0, 'L265286': 0.0, 'L266281': 0.0, 'L266282': 0.0, 'L266283': 0.0, 'L266284': 0.0, 'L266285': 0.0, 'L266286': 0.0, 'L265291': 0.0, 'L265292': 0.0, 'L265293': 0.0, 'L265294': 0.0, 'L265295': 0.0, 'L265296': 0.0, 'L266291': 0.0, 'L266292': 0.0, 'L266293': 0.0, 'L266294': 0.0, 'L266295': 0.0, 'L266296': 0.0, 'L265301': 0.0, 'L265302': 0.0, 'L265303': 0.0, 'L265304': 0.0, 'L265305': 0.0, 'L265306': 0.0, 'L266301': 0.0, 'L266302': 0.0, 'L266303': 0.0, 'L266304': 0.0, 'L266305': 0.0, 'L266306': 0.0, 'L265311': 0.0, 'L265312': 0.0, 'L265313': 0.0, 'L265314': 0.0, 'L265315': 0.0, 'L265316': 0.0, 'L266311': 0.0, 'L266312': 0.0, 'L266313': 0.0, 'L266314': 0.0, 'L266315': 0.0, 'L266316': 0.0, 'L265321': 0.0, 'L265322': 0.0, 'L265323': 0.0, 'L265324': 0.0, 'L265325': 0.0, 'L265326': 0.0, 'L266321': 0.0, 'L266322': 0.0, 'L266323': 0.0, 'L266324': 0.0, 'L266325': 0.0, 'L266326': 0.0, 'L265331': 0.0, 'L265332': 0.0, 'L265333': 0.0, 'L265334': 0.0, 'L265335': 0.0, 'L265336': 0.0, 'L266331': 0.0, 'L266332': 0.0, 'L266333': 0.0, 'L266334': 0.0, 'L266335': 0.0, 'L266336': 0.0, 'L265341': 0.0, 'L265342': 0.0, 'L265343': 0.0, 'L265344': 0.0, 'L265345': 0.0, 'L265346': 0.0, 'L266341': 0.0, 'L266342': 0.0, 'L266343': 0.0, 'L266344': 0.0, 'L266345': 0.0, 'L266346': 0.0, 'L265351': 0.0, 'L265352': 0.0, 'L265353': 0.0, 'L265354': 0.0, 'L265355': 0.0, 'L265356': 0.0, 'L266351': 0.0, 'L266352': 0.0, 'L266353': 0.0, 'L266354': 0.0, 'L266355': 0.0, 'L266356': 0.0}\n",
            "Pallets =  [1, 2, 3, 4, 5, 6, 7, 8, 9, 10, 11, 12, 13, 14, 15, 16, 17, 18, 19, 20, 21, 22, 23, 24, 25, 26, 27, 28, 29, 30, 31, 32, 33, 34, 35, 36, 37, 38, 39, 40, 41, 42, 43, 44, 45, 46, 47, 48, 49, 50, 51, 52, 53, 54, 55, 56, 57, 58, 59, 60, 61, 62, 63, 64, 65, 66, 67, 68, 69, 70, 71, 72, 73, 74, 75, 76, 77, 78, 79, 80, 81, 82, 83, 84, 85, 86, 87, 88, 89, 90, 91, 92, 93, 94, 95, 96, 97, 98, 99, 100, 101, 102, 103, 104, 105, 106, 107, 108, 109, 110, 111, 112, 113, 114, 115, 116, 117, 118, 119, 120, 121, 122, 123, 124, 125, 126, 127, 128, 129, 130, 131, 132, 133, 134, 135, 136, 137, 138, 139, 140, 141, 142, 143, 144, 145, 146, 147, 148, 149, 150, 151, 152, 153, 154, 155, 156, 157, 158, 159, 160, 161, 162, 163, 164, 165, 166, 167, 168, 169, 170, 171, 172, 173, 174, 175, 176, 177, 178, 179, 180, 181, 182, 183, 184, 185, 186, 187, 188, 189, 190, 191, 192, 193, 194, 195, 196, 197, 198, 199, 200]\n",
            "The SKU in each pallet =  {1: 5025, 2: 49538, 3: 47898, 4: 5710, 5: 5528, 6: 15017, 7: 5000, 8: 5025, 9: 5028, 10: 5027, 11: 5000, 12: 5336, 13: 15017, 14: 49238, 15: 5509, 16: 49238, 17: 49238, 18: 1521, 19: 5712, 20: 5711, 21: 30128, 22: 5028, 23: 30128, 24: 30128, 25: 30128, 26: 31328, 27: 5712, 28: 41328, 29: 5000, 30: 35529, 31: 35027, 32: 35027, 33: 11018, 34: 43227, 35: 5509, 36: 5000, 37: 5712, 38: 32228, 39: 5025, 40: 5027, 41: 5000, 42: 5000, 43: 1521, 44: 5712, 45: 5000, 46: 5528, 47: 5710, 48: 15017, 49: 35027, 50: 35027, 51: 30128, 52: 5331, 53: 1521, 54: 5028, 55: 5025, 56: 15017, 57: 5509, 58: 47898, 59: 5552, 60: 49238, 61: 11018, 62: 49238, 63: 35027, 64: 5711, 65: 5711, 66: 43227, 67: 5331, 68: 5509, 69: 5025, 70: 30128, 71: 47898, 72: 30128, 73: 32228, 74: 11018, 75: 11018, 76: 39238, 77: 42398, 78: 49328, 79: 49238, 80: 5509, 81: 5711, 82: 32228, 83: 43227, 84: 40028, 85: 40028, 86: 40028, 87: 1521, 88: 41328, 89: 1521, 90: 5025, 91: 5025, 92: 5025, 93: 5000, 94: 5509, 95: 14518, 96: 35027, 97: 44627, 98: 49538, 99: 30128, 100: 30128, 101: 11018, 102: 11018, 103: 5332, 104: 41328, 105: 5509, 106: 5509, 107: 35027, 108: 49228, 109: 49228, 110: 15017, 111: 11018, 112: 5552, 113: 30128, 114: 30128, 115: 14217, 116: 30128, 117: 47898, 118: 14217, 119: 15017, 120: 30128, 121: 35529, 122: 15319, 123: 30128, 124: 5025, 125: 5528, 126: 49828, 127: 116362, 128: 5025, 129: 5025, 130: 34728, 131: 30128, 132: 30128, 133: 47898, 134: 47898, 135: 47898, 136: 5111, 137: 30128, 138: 5025, 139: 30128, 140: 30128, 141: 15017, 142: 15017, 143: 15017, 144: 14217, 145: 5025, 146: 49538, 147: 47898, 148: 5710, 149: 5528, 150: 15017, 151: 5000, 152: 5025, 153: 5028, 154: 5027, 155: 5000, 156: 5336, 157: 15017, 158: 49238, 159: 5509, 160: 49238, 161: 49238, 162: 1521, 163: 5712, 164: 5711, 165: 30128, 166: 5028, 167: 30128, 168: 30128, 169: 30128, 170: 31328, 171: 5712, 172: 41328, 173: 5000, 174: 35529, 175: 35027, 176: 35027, 177: 11018, 178: 43227, 179: 5509, 180: 5000, 181: 5712, 182: 32228, 183: 5025, 184: 5027, 185: 5000, 186: 5000, 187: 1521, 188: 5712, 189: 5000, 190: 5528, 191: 5710, 192: 15017, 193: 35027, 194: 35027, 195: 30128, 196: 5331, 197: 1521, 198: 5028, 199: 5025, 200: 15017}\n",
            "Time each pallet having each SKU takes to freeze =  {1: 46.0, 2: 43.75, 3: 53.5, 4: 41.5, 5: 36.25, 6: 54.75, 7: 51.25, 8: 46.0, 9: 27.75, 10: 33.0, 11: 51.25, 12: 27.75, 13: 54.75, 14: 72.0, 15: 43.0, 16: 72.0, 17: 72.0, 18: 51.25, 19: 27.75, 20: 33.0, 21: 61.5, 22: 27.75, 23: 61.5, 24: 61.5, 25: 61.5, 26: 34.0, 27: 27.75, 28: 72.0, 29: 51.25, 30: 72.0, 31: 54.75, 32: 54.75, 33: 43.75, 34: 54.75, 35: 43.0, 36: 51.25, 37: 27.75, 38: 72.0, 39: 46.0, 40: 33.0, 41: 51.25, 42: 51.25, 43: 51.25, 44: 27.75, 45: 51.25, 46: 36.25, 47: 41.5, 48: 54.75, 49: 54.75, 50: 54.75, 51: 61.5, 52: 51.25, 53: 51.25, 54: 27.75, 55: 46.0, 56: 54.75, 57: 43.0, 58: 53.5, 59: 72.0, 60: 72.0, 61: 43.75, 62: 72.0, 63: 54.75, 64: 33.0, 65: 33.0, 66: 54.75, 67: 51.25, 68: 43.0, 69: 46.0, 70: 61.5, 71: 53.5, 72: 61.5, 73: 72.0, 74: 43.75, 75: 43.75, 76: 72.0, 77: 72.0, 78: 72.0, 79: 72.0, 80: 43.0, 81: 33.0, 82: 72.0, 83: 54.75, 84: 72.0, 85: 72.0, 86: 72.0, 87: 51.25, 88: 72.0, 89: 51.25, 90: 46.0, 91: 46.0, 92: 46.0, 93: 51.25, 94: 43.0, 95: 72.0, 96: 54.75, 97: 72.0, 98: 43.75, 99: 61.5, 100: 61.5, 101: 43.75, 102: 43.75, 103: 46.0, 104: 72.0, 105: 43.0, 106: 43.0, 107: 54.75, 108: 72.0, 109: 72.0, 110: 54.75, 111: 43.75, 112: 72.0, 113: 61.5, 114: 61.5, 115: 55.75, 116: 61.5, 117: 53.5, 118: 55.75, 119: 54.75, 120: 61.5, 121: 72.0, 122: 50.0, 123: 61.5, 124: 46.0, 125: 36.25, 126: 37.25, 127: 72.0, 128: 46.0, 129: 46.0, 130: 72.0, 131: 61.5, 132: 61.5, 133: 53.5, 134: 53.5, 135: 53.5, 136: 46.0, 137: 61.5, 138: 46.0, 139: 61.5, 140: 61.5, 141: 54.75, 142: 54.75, 143: 54.75, 144: 55.75, 145: 46.0, 146: 43.75, 147: 53.5, 148: 41.5, 149: 36.25, 150: 54.75, 151: 51.25, 152: 46.0, 153: 27.75, 154: 33.0, 155: 51.25, 156: 27.75, 157: 54.75, 158: 72.0, 159: 43.0, 160: 72.0, 161: 72.0, 162: 51.25, 163: 27.75, 164: 33.0, 165: 61.5, 166: 27.75, 167: 61.5, 168: 61.5, 169: 61.5, 170: 34.0, 171: 27.75, 172: 72.0, 173: 51.25, 174: 72.0, 175: 54.75, 176: 54.75, 177: 43.75, 178: 54.75, 179: 43.0, 180: 51.25, 181: 27.75, 182: 72.0, 183: 46.0, 184: 33.0, 185: 51.25, 186: 51.25, 187: 51.25, 188: 27.75, 189: 51.25, 190: 36.25, 191: 41.5, 192: 54.75, 193: 54.75, 194: 54.75, 195: 61.5, 196: 51.25, 197: 51.25, 198: 27.75, 199: 46.0, 200: 54.75}\n"
          ]
        }
      ],
      "source": [
        "import pandas as pd\n",
        "import sys\n",
        "\n",
        "#Import the sheet 'TestSKU' onto sku_data df\n",
        "sku_data = pd.read_excel(\"/content/drive/MyDrive/INFO645 Prescriptive Analytics/Datasets/Interchange Group Data - Shared.xlsx\",\n",
        "                       sheet_name=\"SKUData\",\n",
        "                        index_col=0)\n",
        "\n",
        "#Let SKUs = the set of SKUs in the SKU portfolio\n",
        "sku = list(sku_data.index)\n",
        "print('SKUs = ', sku)\n",
        "\n",
        "#Let min_TimeToFreeze[i] be the minimum freeze time for an SKU i, i in sku\n",
        "min_TimeToFreeze = dict(zip(sku,sku_data.Min_freeze_time))\n",
        "print('Min Time to Freeze for each SKU = ', min_TimeToFreeze)\n",
        "\n",
        "\n",
        "#Import the sheet 'TestData' onto trans_data df\n",
        "cell_data = pd.read_excel(\"/content/drive/MyDrive/INFO645 Prescriptive Analytics/Datasets/Interchange Group Data - Shared.xlsx\",\n",
        "                       sheet_name=\"CellData\")\n",
        "\n",
        "#Let C = the set of cells in the freezer\n",
        "c = list(cell_data.Cells)\n",
        "print('Cells = ', c)\n",
        "\n",
        "#Let rem_TimetoFreeze[i] = the remaining time to freeze whatever is in cell i currently, i in c\n",
        "rem_TimeToFreeze = dict(zip(c,cell_data.Rem_TimeToFreeze))\n",
        "print('Remaining time to freeze in a cell = ', rem_TimeToFreeze) #This is set to 0 for the prototype\n",
        "\n",
        "#Import the sheet 'TestData' onto trans_data df\n",
        "pallet_data = pd.read_excel(\"/content/drive/MyDrive/INFO645 Prescriptive Analytics/Datasets/Interchange Group Data - Shared.xlsx\",\n",
        "                       sheet_name=\"PalletData\")\n",
        "\n",
        "#Let pallets = the set of pallets to be loaded in each cell in the freezer\n",
        "pallets = list(pallet_data.Pallets)\n",
        "print('Pallets = ', pallets)\n",
        "\n",
        "#Let pallet_sku[i] = the SKU in a pallet i, i in pallet\n",
        "pallet_sku = dict(zip(pallets, pallet_data.Pallet_SKU))\n",
        "print('The SKU in each pallet = ', pallet_sku)\n",
        "\n",
        "#Let pallet_TimeToFreeze[i] = the time it takes the content of pallet i to freeze, i in pallets\n",
        "pallet_TimeToFreeze = dict(zip(pallets, pallet_data.Pallet_TimeToFreeze))\n",
        "print('Time each pallet having each SKU takes to freeze = ', pallet_TimeToFreeze)"
      ]
    },
    {
      "cell_type": "code",
      "execution_count": null,
      "metadata": {
        "id": "tDfADTnuqaHO"
      },
      "outputs": [],
      "source": [
        "ampl.eval ('''\n",
        "\n",
        "reset;\n",
        "\n",
        "set sku;\n",
        "set c;\n",
        "set pallets;\n",
        "\n",
        "param min_TimeToFreeze{sku};\n",
        "param rem_TimeToFreeze{c};\n",
        "param pallet_sku{pallets};\n",
        "param pallet_TimeToFreeze{pallets};\n",
        "\n",
        "var x{pallets, c} binary;\n",
        "var all_cells_filled binary;\n",
        "var pallet_assigned{pallets} binary;  # Whether a pallet is assigned to any cell\n",
        "\n",
        "minimize Time_Objective:\n",
        "  sum {p in pallets, cell in c} (pallet_TimeToFreeze[p] + rem_TimeToFreeze[cell]) * x[p, cell];\n",
        "\n",
        "subject to CellCapacity{cell in c}:\n",
        "  sum{p in pallets} x[p,cell] <=1;\n",
        "\n",
        "subject to PalletAssignment{p in pallets}:\n",
        "    sum {cell in c} x[p, cell] = pallet_assigned[p];\n",
        "\n",
        "subject to MaximizeCellUsage:\n",
        "    sum {cell in c} sum {p in pallets} x[p, cell] >= min(card(c), card(pallets));\n",
        "\n",
        "''')"
      ]
    },
    {
      "cell_type": "code",
      "execution_count": null,
      "metadata": {
        "id": "Jz__ts6dqaJw"
      },
      "outputs": [],
      "source": [
        "ampl.set['sku'] = sku\n",
        "ampl.set['c'] = c\n",
        "ampl.set['pallets'] = pallets\n",
        "ampl.param['min_TimeToFreeze'] = min_TimeToFreeze\n",
        "ampl.param['rem_TimeToFreeze'] = rem_TimeToFreeze\n",
        "ampl.param['pallet_sku'] = pallet_sku\n",
        "ampl.param['pallet_TimeToFreeze'] = pallet_TimeToFreeze"
      ]
    },
    {
      "cell_type": "code",
      "execution_count": null,
      "metadata": {
        "colab": {
          "base_uri": "https://localhost:8080/"
        },
        "id": "lbgZ0pI7qaMO",
        "outputId": "298e739d-d5aa-4062-d55b-b4e39154243e"
      },
      "outputs": [
        {
          "name": "stdout",
          "output_type": "stream",
          "text": [
            "Gurobi 11.0.1: \b\b\b\b\b\b\b\b\b\b\b\b\b\b\bGurobi 11.0.1: optimal solution; objective 10370.21\n",
            "5422 simplex iterations\n",
            "1 branching node\n"
          ]
        }
      ],
      "source": [
        "ampl.setOption('solver', 'gurobi')\n",
        "ampl.solve()"
      ]
    },
    {
      "cell_type": "code",
      "execution_count": null,
      "metadata": {
        "colab": {
          "base_uri": "https://localhost:8080/"
        },
        "id": "SXeQU-eft0dZ",
        "outputId": "f79974f8-6af4-48ee-840f-4a3ab24d8d05"
      },
      "outputs": [
        {
          "name": "stderr",
          "output_type": "stream",
          "text": [
            "IOPub data rate exceeded.\n",
            "The notebook server will temporarily stop sending output\n",
            "to the client in order to avoid crashing it.\n",
            "To change this limit, set the config variable\n",
            "`--NotebookApp.iopub_data_rate_limit`.\n",
            "\n",
            "Current values:\n",
            "NotebookApp.iopub_data_rate_limit=1000000.0 (bytes/sec)\n",
            "NotebookApp.rate_limit_window=3.0 (secs)\n",
            "\n"
          ]
        }
      ],
      "source": [
        "ampl.eval('''expand;''')"
      ]
    },
    {
      "cell_type": "code",
      "execution_count": null,
      "metadata": {
        "colab": {
          "base_uri": "https://localhost:8080/"
        },
        "id": "7LGRWVQIm-kb",
        "outputId": "5db866e6-d521-4f79-fb81-8b9c2cb5646a"
      },
      "outputs": [
        {
          "name": "stdout",
          "output_type": "stream",
          "text": [
            "Number of cells empty or complete: 197\n",
            "List of cells empty or complete: ['L265123', 'L266121', 'L266122', 'L266123', 'L266124', 'L266125', 'L266126', 'L266131', 'L265141', 'L265143', 'L266142', 'L266144', 'L266145', 'L266146', 'L265151', 'L265152', 'L265153', 'L265154', 'L265155', 'L265156', 'L266151', 'L266152', 'L266153', 'L266154', 'L266155', 'L266156', 'L265161', 'L265162', 'L265165', 'L266161', 'L266162', 'L266163', 'L266164', 'L266165', 'L266166', 'L266171', 'L266172', 'L266173', 'L266174', 'L266176', 'L266181', 'L266182', 'L266183', 'L266184', 'L266185', 'L265191', 'L265192', 'L265193', 'L265194', 'L265195', 'L265196', 'L266191', 'L266192', 'L266193', 'L266194', 'L266195', 'L266196', 'L265202', 'L265206', 'L265212', 'L265215', 'L265221', 'L265222', 'L265223', 'L265224', 'L266222', 'L265231', 'L266233', 'L265242', 'L266242', 'L266243', 'L266244', 'L266245', 'L266246', 'L265255', 'L266253', 'L266256', 'L265261', 'L265262', 'L265263', 'L265264', 'L265265', 'L265266', 'L266261', 'L266262', 'L266263', 'L266264', 'L266265', 'L266266', 'L265271', 'L265272', 'L265273', 'L265274', 'L265275', 'L265276', 'L266271', 'L266272', 'L266273', 'L266274', 'L266275', 'L266276', 'L265281', 'L265282', 'L265283', 'L265284', 'L265285', 'L265286', 'L266281', 'L266282', 'L266283', 'L266284', 'L266285', 'L266286', 'L265291', 'L265292', 'L265293', 'L265294', 'L265295', 'L265296', 'L266291', 'L266292', 'L266293', 'L266294', 'L266295', 'L266296', 'L265301', 'L265302', 'L265303', 'L265304', 'L265305', 'L265306', 'L266301', 'L266302', 'L266303', 'L266304', 'L266305', 'L266306', 'L265311', 'L265312', 'L265313', 'L265314', 'L265315', 'L265316', 'L266311', 'L266312', 'L266313', 'L266314', 'L266315', 'L266316', 'L265321', 'L265322', 'L265323', 'L265324', 'L265325', 'L265326', 'L266321', 'L266322', 'L266323', 'L266324', 'L266325', 'L266326', 'L265331', 'L265332', 'L265333', 'L265334', 'L265335', 'L265336', 'L266331', 'L266332', 'L266333', 'L266334', 'L266335', 'L266336', 'L265341', 'L265342', 'L265343', 'L265344', 'L265345', 'L265346', 'L266341', 'L266342', 'L266343', 'L266344', 'L266345', 'L266346', 'L265351', 'L265352', 'L265353', 'L265354', 'L265355', 'L265356', 'L266351', 'L266352', 'L266353', 'L266354', 'L266355', 'L266356']\n",
            "\n",
            "Number of cells with freezing-in-progress: 91\n",
            "List of cells with freezing in progress: ['L265121 (45.24 hours left)', 'L265122 (40.01 hours left)', 'L265124 (40.06 hours left)', 'L265125 (35.58 hours left)', 'L265126 (30.36 hours left)', 'L265131 (26.67 hours left)', 'L265132 (26.69 hours left)', 'L265133 (0.87 hours left)', 'L265134 (6.17 hours left)', 'L265135 (45.02 hours left)', 'L265136 (21.66 hours left)', 'L266132 (40.28 hours left)', 'L266133 (50.02 hours left)', 'L266134 (68.15 hours left)', 'L266135 (68.12 hours left)', 'L266136 (68.1 hours left)', 'L265142 (0.85 hours left)', 'L265144 (24.54 hours left)', 'L265145 (21.72 hours left)', 'L265146 (26.94 hours left)', 'L266141 (30.22 hours left)', 'L266143 (68.24 hours left)', 'L265163 (0.99 hours left)', 'L265164 (52.05 hours left)', 'L265166 (37.19 hours left)', 'L265171 (24.58 hours left)', 'L265172 (24.57 hours left)', 'L265173 (1.05 hours left)', 'L265174 (52.0 hours left)', 'L265175 (40.14 hours left)', 'L265176 (21.92 hours left)', 'L266175 (68.27 hours left)', 'L265181 (24.61 hours left)', 'L265182 (1.1 hours left)', 'L265183 (1.13 hours left)', 'L265184 (24.65 hours left)', 'L265185 (30.47 hours left)', 'L265186 (35.74 hours left)', 'L266186 (49.85 hours left)', 'L265201 (50.68 hours left)', 'L265203 (50.72 hours left)', 'L265204 (50.78 hours left)', 'L265205 (33.61 hours left)', 'L266201 (51.77 hours left)', 'L266202 (23.55 hours left)', 'L266203 (50.85 hours left)', 'L266204 (50.8 hours left)', 'L266205 (52.81 hours left)', 'L266206 (24.65 hours left)', 'L265211 (50.59 hours left)', 'L265213 (50.66 hours left)', 'L265214 (50.75 hours left)', 'L265216 (27.34 hours left)', 'L266211 (51.88 hours left)', 'L266212 (23.67 hours left)', 'L266213 (51.95 hours left)', 'L266214 (23.6 hours left)', 'L266215 (24.62 hours left)', 'L266216 (49.87 hours left)', 'L265225 (33.28 hours left)', 'L265226 (9.92 hours left)', 'L266221 (27.23 hours left)', 'L266223 (32.59 hours left)', 'L266224 (32.69 hours left)', 'L266225 (28.22 hours left)', 'L266226 (68.39 hours left)', 'L265232 (32.28 hours left)', 'L265233 (32.33 hours left)', 'L265234 (32.42 hours left)', 'L265235 (33.38 hours left)', 'L265236 (28.08 hours left)', 'L266231 (27.26 hours left)', 'L266232 (27.31 hours left)', 'L266234 (32.72 hours left)', 'L266235 (28.29 hours left)', 'L266236 (68.41 hours left)', 'L265241 (70.2 hours left)', 'L265243 (70.04 hours left)', 'L265244 (70.02 hours left)', 'L265245 (70.2 hours left)', 'L265246 (27.31 hours left)', 'L266241 (70.0 hours left)', 'L265251 (69.99 hours left)', 'L265252 (70.04 hours left)', 'L265253 (70.05 hours left)', 'L265254 (70.01 hours left)', 'L265256 (30.63 hours left)', 'L266251 (69.98 hours left)', 'L266252 (69.97 hours left)', 'L266254 (49.99 hours left)', 'L266255 (68.51 hours left)']\n",
            "Current % of utilization: 31.60%\n"
          ]
        }
      ],
      "source": [
        "# After solving the model\n",
        "#ampl.eval('''display x;''')\n",
        "\n",
        "# Extract the solution for displaying\n",
        "solution_df = pd.DataFrame([(p, c) for (p, c), v in ampl.getVariable('x').getValues().toDict().items() if v == 1], columns=['Pallets', 'Cells'])\n",
        "\n",
        "# Convert columns to string if necessary for consistent data types\n",
        "solution_df['Pallets'] = solution_df['Pallets'].astype(str)\n",
        "solution_df['Cells'] = solution_df['Cells'].astype(str)\n",
        "pallet_data['Pallets'] = pallet_data['Pallets'].astype(str)\n",
        "cell_data['Cells'] = cell_data['Cells'].astype(str)\n",
        "\n",
        "# Join with pallet and cell data for full information\n",
        "solution_df = solution_df.merge(pallet_data[['Pallets', 'Pallet_SKU', 'Pallet_TimeToFreeze']], on='Pallets')\n",
        "solution_df = solution_df.merge(cell_data[['Cells', 'Rem_TimeToFreeze']], on='Cells')\n",
        "\n",
        "# Calculate total freeze time for each pallet-cell allocation\n",
        "solution_df['Total_Freeze_Time'] = solution_df['Pallet_TimeToFreeze'] + solution_df['Rem_TimeToFreeze']\n",
        "\n",
        "# Identify empty or complete cells and cells with freezing in progress\n",
        "empty_or_complete_cells = cell_data[cell_data['Rem_TimeToFreeze'] == 0]\n",
        "freezing_in_progress_cells = cell_data[cell_data['Rem_TimeToFreeze'] != 0]\n",
        "\n",
        "# Count and list these cells\n",
        "num_empty_or_complete = len(empty_or_complete_cells)\n",
        "num_freezing_in_progress = len(freezing_in_progress_cells)\n",
        "list_empty_or_complete = empty_or_complete_cells['Cells'].tolist()\n",
        "list_freezing_in_progress = freezing_in_progress_cells['Cells'].tolist()\n",
        "\n",
        "# Current % of utilization\n",
        "if num_empty_or_complete + num_freezing_in_progress > 0:\n",
        "    current_utilization = num_freezing_in_progress / (num_empty_or_complete + num_freezing_in_progress) * 100\n",
        "else:\n",
        "    current_utilization = 0\n",
        "\n",
        "# Display additional info before the main output\n",
        "print(\"Number of cells empty or complete:\", num_empty_or_complete)\n",
        "print(\"List of cells empty or complete:\", list_empty_or_complete)\n",
        "print(\"\\nNumber of cells with freezing-in-progress:\", num_freezing_in_progress)\n",
        "print(\"List of cells with freezing in progress:\", [f\"{cell} ({time} hours left)\" for cell, time in zip(list_freezing_in_progress, freezing_in_progress_cells['Rem_TimeToFreeze'])])\n",
        "print(f\"Current % of utilization: {current_utilization:.2f}%\")\n"
      ]
    },
    {
      "cell_type": "code",
      "execution_count": null,
      "metadata": {
        "colab": {
          "base_uri": "https://localhost:8080/"
        },
        "id": "Bzhk31rk4hSF",
        "outputId": "e5b109bf-053a-4f4f-d67b-007d49136d16"
      },
      "outputs": [
        {
          "name": "stdout",
          "output_type": "stream",
          "text": [
            "The number of pallets from load(s) on truck(s) = 200\n",
            "The number of cells in the freezer = 288\n",
            "The minimum required time to freeze all pallets from load(s) on truck(s) by optimally allocating pallets into cells in the freezer = 10370.21  hours\n",
            "\n",
            "\n",
            "ALLOCATION SCHEDULE: \n",
            "\n",
            "Optimal Pallet in Cell allocation is as follows:\n",
            "Place pallet 1 containing SKU 5025 in cell L265345 at time 0.0 for 46.0 for a total freeze time of 46.0\n",
            "Place pallet 2 containing SKU 49538 in cell L265296 at time 0.0 for 43.75 for a total freeze time of 43.75\n",
            "Place pallet 3 containing SKU 47898 in cell L266192 at time 0.0 for 53.5 for a total freeze time of 53.5\n",
            "Place pallet 4 containing SKU 5710 in cell L265224 at time 0.0 for 41.5 for a total freeze time of 41.5\n",
            "Place pallet 5 containing SKU 5528 in cell L266151 at time 0.0 for 36.25 for a total freeze time of 36.25\n",
            "Place pallet 6 containing SKU 15017 in cell L266304 at time 0.0 for 54.75 for a total freeze time of 54.75\n",
            "Place pallet 7 containing SKU 5000 in cell L266321 at time 0.0 for 51.25 for a total freeze time of 51.25\n",
            "Place pallet 8 containing SKU 5025 in cell L265155 at time 0.0 for 46.0 for a total freeze time of 46.0\n",
            "Place pallet 9 containing SKU 5028 in cell L265313 at time 0.0 for 27.75 for a total freeze time of 27.75\n",
            "Place pallet 10 containing SKU 5027 in cell L266181 at time 0.0 for 33.0 for a total freeze time of 33.0\n",
            "Place pallet 11 containing SKU 5000 in cell L265143 at time 0.0 for 51.25 for a total freeze time of 51.25\n",
            "Place pallet 12 containing SKU 5336 in cell L266356 at time 0.0 for 27.75 for a total freeze time of 27.75\n",
            "Place pallet 13 containing SKU 15017 in cell L266253 at time 0.0 for 54.75 for a total freeze time of 54.75\n",
            "Place pallet 14 containing SKU 49238 in cell L266144 at time 0.0 for 72.0 for a total freeze time of 72.0\n",
            "Place pallet 15 containing SKU 5509 in cell L265314 at time 0.0 for 43.0 for a total freeze time of 43.0\n",
            "Place pallet 16 containing SKU 49238 in cell L266311 at time 0.0 for 72.0 for a total freeze time of 72.0\n",
            "Place pallet 17 containing SKU 49238 in cell L266145 at time 0.0 for 72.0 for a total freeze time of 72.0\n",
            "Place pallet 18 containing SKU 1521 in cell L266164 at time 0.0 for 51.25 for a total freeze time of 51.25\n",
            "Place pallet 19 containing SKU 5712 in cell L265123 at time 0.0 for 27.75 for a total freeze time of 27.75\n",
            "Place pallet 20 containing SKU 5711 in cell L266313 at time 0.0 for 33.0 for a total freeze time of 33.0\n",
            "Place pallet 21 containing SKU 30128 in cell L266172 at time 0.0 for 61.5 for a total freeze time of 61.5\n",
            "Place pallet 22 containing SKU 5028 in cell L265311 at time 0.0 for 27.75 for a total freeze time of 27.75\n",
            "Place pallet 23 containing SKU 30128 in cell L265196 at time 0.0 for 61.5 for a total freeze time of 61.5\n",
            "Place pallet 24 containing SKU 30128 in cell L265223 at time 0.0 for 61.5 for a total freeze time of 61.5\n",
            "Place pallet 25 containing SKU 30128 in cell L266246 at time 0.0 for 61.5 for a total freeze time of 61.5\n",
            "Place pallet 26 containing SKU 31328 in cell L266122 at time 0.0 for 34.0 for a total freeze time of 34.0\n",
            "Place pallet 27 containing SKU 5712 in cell L266312 at time 0.0 for 27.75 for a total freeze time of 27.75\n",
            "Place pallet 28 containing SKU 41328 in cell L266256 at time 0.0 for 72.0 for a total freeze time of 72.0\n",
            "Place pallet 29 containing SKU 5000 in cell L266346 at time 0.0 for 51.25 for a total freeze time of 51.25\n",
            "Place pallet 30 containing SKU 35529 in cell L266282 at time 0.0 for 72.0 for a total freeze time of 72.0\n",
            "Place pallet 31 containing SKU 35027 in cell L265281 at time 0.0 for 54.75 for a total freeze time of 54.75\n",
            "Place pallet 32 containing SKU 35027 in cell L266354 at time 0.0 for 54.75 for a total freeze time of 54.75\n",
            "Place pallet 33 containing SKU 11018 in cell L265344 at time 0.0 for 43.75 for a total freeze time of 43.75\n",
            "Place pallet 34 containing SKU 43227 in cell L265141 at time 0.0 for 54.75 for a total freeze time of 54.75\n",
            "Place pallet 35 containing SKU 5509 in cell L265346 at time 0.0 for 43.0 for a total freeze time of 43.0\n",
            "Place pallet 36 containing SKU 5000 in cell L266324 at time 0.0 for 51.25 for a total freeze time of 51.25\n",
            "Place pallet 37 containing SKU 5712 in cell L265261 at time 0.0 for 27.75 for a total freeze time of 27.75\n",
            "Place pallet 38 containing SKU 32228 in cell L265324 at time 0.0 for 72.0 for a total freeze time of 72.0\n",
            "Place pallet 39 containing SKU 5025 in cell L266156 at time 0.0 for 46.0 for a total freeze time of 46.0\n",
            "Place pallet 40 containing SKU 5027 in cell L266352 at time 0.0 for 33.0 for a total freeze time of 33.0\n",
            "Place pallet 41 containing SKU 5000 in cell L266344 at time 0.0 for 51.25 for a total freeze time of 51.25\n",
            "Place pallet 42 containing SKU 5000 in cell L266274 at time 0.0 for 51.25 for a total freeze time of 51.25\n",
            "Place pallet 43 containing SKU 1521 in cell L266154 at time 0.0 for 51.25 for a total freeze time of 51.25\n",
            "Place pallet 44 containing SKU 5712 in cell L265333 at time 0.0 for 27.75 for a total freeze time of 27.75\n",
            "Place pallet 45 containing SKU 5000 in cell L266333 at time 0.0 for 51.25 for a total freeze time of 51.25\n",
            "Place pallet 46 containing SKU 5528 in cell L265325 at time 0.0 for 36.25 for a total freeze time of 36.25\n",
            "Place pallet 47 containing SKU 5710 in cell L265266 at time 0.0 for 41.5 for a total freeze time of 41.5\n",
            "Place pallet 48 containing SKU 15017 in cell L265193 at time 0.0 for 54.75 for a total freeze time of 54.75\n",
            "Place pallet 49 containing SKU 35027 in cell L266244 at time 0.0 for 54.75 for a total freeze time of 54.75\n",
            "Place pallet 50 containing SKU 35027 in cell L266264 at time 0.0 for 54.75 for a total freeze time of 54.75\n",
            "Place pallet 51 containing SKU 30128 in cell L265342 at time 0.0 for 61.5 for a total freeze time of 61.5\n",
            "Place pallet 52 containing SKU 5331 in cell L265293 at time 0.0 for 51.25 for a total freeze time of 51.25\n",
            "Place pallet 53 containing SKU 1521 in cell L265271 at time 0.0 for 51.25 for a total freeze time of 51.25\n",
            "Place pallet 54 containing SKU 5028 in cell L265156 at time 0.0 for 27.75 for a total freeze time of 27.75\n",
            "Place pallet 55 containing SKU 5025 in cell L265231 at time 0.0 for 46.0 for a total freeze time of 46.0\n",
            "Place pallet 56 containing SKU 15017 in cell L266345 at time 0.0 for 54.75 for a total freeze time of 54.75\n",
            "Place pallet 57 containing SKU 5509 in cell L265191 at time 0.0 for 43.0 for a total freeze time of 43.0\n",
            "Place pallet 58 containing SKU 47898 in cell L266125 at time 0.0 for 53.5 for a total freeze time of 53.5\n",
            "Place pallet 59 containing SKU 5552 in cell L266152 at time 0.0 for 72.0 for a total freeze time of 72.0\n",
            "Place pallet 60 containing SKU 49238 in cell L265275 at time 0.0 for 72.0 for a total freeze time of 72.0\n",
            "Place pallet 61 containing SKU 11018 in cell L266291 at time 0.0 for 43.75 for a total freeze time of 43.75\n",
            "Place pallet 62 containing SKU 49238 in cell L265133 at time 0.87 for 72.0 for a total freeze time of 72.87\n",
            "Place pallet 63 containing SKU 35027 in cell L266266 at time 0.0 for 54.75 for a total freeze time of 54.75\n",
            "Place pallet 64 containing SKU 5711 in cell L265285 at time 0.0 for 33.0 for a total freeze time of 33.0\n",
            "Place pallet 65 containing SKU 5711 in cell L266293 at time 0.0 for 33.0 for a total freeze time of 33.0\n",
            "Place pallet 66 containing SKU 43227 in cell L265306 at time 0.0 for 54.75 for a total freeze time of 54.75\n",
            "Place pallet 67 containing SKU 5331 in cell L265321 at time 0.0 for 51.25 for a total freeze time of 51.25\n",
            "Place pallet 68 containing SKU 5509 in cell L266355 at time 0.0 for 43.0 for a total freeze time of 43.0\n",
            "Place pallet 69 containing SKU 5025 in cell L265291 at time 0.0 for 46.0 for a total freeze time of 46.0\n",
            "Place pallet 70 containing SKU 30128 in cell L266182 at time 0.0 for 61.5 for a total freeze time of 61.5\n",
            "Place pallet 71 containing SKU 47898 in cell L266173 at time 0.0 for 53.5 for a total freeze time of 53.5\n",
            "Place pallet 72 containing SKU 30128 in cell L265265 at time 0.0 for 61.5 for a total freeze time of 61.5\n",
            "Place pallet 73 containing SKU 32228 in cell L266242 at time 0.0 for 72.0 for a total freeze time of 72.0\n",
            "Place pallet 74 containing SKU 11018 in cell L266305 at time 0.0 for 43.75 for a total freeze time of 43.75\n",
            "Place pallet 75 containing SKU 11018 in cell L266126 at time 0.0 for 43.75 for a total freeze time of 43.75\n",
            "Place pallet 76 containing SKU 39238 in cell L266276 at time 0.0 for 72.0 for a total freeze time of 72.0\n",
            "Place pallet 77 containing SKU 42398 in cell L266292 at time 0.0 for 72.0 for a total freeze time of 72.0\n",
            "Place pallet 78 containing SKU 49328 in cell L266301 at time 0.0 for 72.0 for a total freeze time of 72.0\n",
            "Place pallet 79 containing SKU 49238 in cell L265195 at time 0.0 for 72.0 for a total freeze time of 72.0\n",
            "Place pallet 80 containing SKU 5509 in cell L266146 at time 0.0 for 43.0 for a total freeze time of 43.0\n",
            "Place pallet 81 containing SKU 5711 in cell L266155 at time 0.0 for 33.0 for a total freeze time of 33.0\n",
            "Place pallet 82 containing SKU 32228 in cell L265352 at time 0.0 for 72.0 for a total freeze time of 72.0\n",
            "Place pallet 83 containing SKU 43227 in cell L266286 at time 0.0 for 54.75 for a total freeze time of 54.75\n",
            "Place pallet 84 containing SKU 40028 in cell L266174 at time 0.0 for 72.0 for a total freeze time of 72.0\n",
            "Place pallet 85 containing SKU 40028 in cell L265192 at time 0.0 for 72.0 for a total freeze time of 72.0\n",
            "Place pallet 86 containing SKU 40028 in cell L265142 at time 0.85 for 72.0 for a total freeze time of 72.85\n",
            "Place pallet 87 containing SKU 1521 in cell L266284 at time 0.0 for 51.25 for a total freeze time of 51.25\n",
            "Place pallet 88 containing SKU 41328 in cell L265161 at time 0.0 for 72.0 for a total freeze time of 72.0\n",
            "Place pallet 89 containing SKU 1521 in cell L265302 at time 0.0 for 51.25 for a total freeze time of 51.25\n",
            "Place pallet 90 containing SKU 5025 in cell L266325 at time 0.0 for 46.0 for a total freeze time of 46.0\n",
            "Place pallet 91 containing SKU 5025 in cell L266166 at time 0.0 for 46.0 for a total freeze time of 46.0\n",
            "Place pallet 92 containing SKU 5025 in cell L265151 at time 0.0 for 46.0 for a total freeze time of 46.0\n",
            "Place pallet 93 containing SKU 5000 in cell L265323 at time 0.0 for 51.25 for a total freeze time of 51.25\n",
            "Place pallet 94 containing SKU 5509 in cell L266315 at time 0.0 for 43.0 for a total freeze time of 43.0\n",
            "Place pallet 95 containing SKU 14518 in cell L266183 at time 0.0 for 72.0 for a total freeze time of 72.0\n",
            "Place pallet 96 containing SKU 35027 in cell L265255 at time 0.0 for 54.75 for a total freeze time of 54.75\n",
            "Place pallet 97 containing SKU 44627 in cell L266184 at time 0.0 for 72.0 for a total freeze time of 72.0\n",
            "Place pallet 98 containing SKU 49538 in cell L265283 at time 0.0 for 43.75 for a total freeze time of 43.75\n",
            "Place pallet 99 containing SKU 30128 in cell L265304 at time 0.0 for 61.5 for a total freeze time of 61.5\n",
            "Place pallet 100 containing SKU 30128 in cell L266342 at time 0.0 for 61.5 for a total freeze time of 61.5\n",
            "Place pallet 101 containing SKU 11018 in cell L265221 at time 0.0 for 43.75 for a total freeze time of 43.75\n",
            "Place pallet 102 containing SKU 11018 in cell L266165 at time 0.0 for 43.75 for a total freeze time of 43.75\n",
            "Place pallet 103 containing SKU 5332 in cell L265336 at time 0.0 for 46.0 for a total freeze time of 46.0\n",
            "Place pallet 104 containing SKU 41328 in cell L265222 at time 0.0 for 72.0 for a total freeze time of 72.0\n",
            "Place pallet 105 containing SKU 5509 in cell L266194 at time 0.0 for 43.0 for a total freeze time of 43.0\n",
            "Place pallet 106 containing SKU 5509 in cell L265331 at time 0.0 for 43.0 for a total freeze time of 43.0\n",
            "Place pallet 107 containing SKU 35027 in cell L265163 at time 0.99 for 54.75 for a total freeze time of 55.74\n",
            "Place pallet 108 containing SKU 49228 in cell L266331 at time 0.0 for 72.0 for a total freeze time of 72.0\n",
            "Place pallet 109 containing SKU 49228 in cell L266243 at time 0.0 for 72.0 for a total freeze time of 72.0\n",
            "Place pallet 110 containing SKU 15017 in cell L266336 at time 0.0 for 54.75 for a total freeze time of 54.75\n",
            "Place pallet 111 containing SKU 11018 in cell L265292 at time 0.0 for 43.75 for a total freeze time of 43.75\n",
            "Place pallet 112 containing SKU 5552 in cell L266303 at time 0.0 for 72.0 for a total freeze time of 72.0\n",
            "Place pallet 113 containing SKU 30128 in cell L265335 at time 0.0 for 61.5 for a total freeze time of 61.5\n",
            "Place pallet 114 containing SKU 30128 in cell L265305 at time 0.0 for 61.5 for a total freeze time of 61.5\n",
            "Place pallet 115 containing SKU 14217 in cell L266271 at time 0.0 for 55.75 for a total freeze time of 55.75\n",
            "Place pallet 116 containing SKU 30128 in cell L265162 at time 0.0 for 61.5 for a total freeze time of 61.5\n",
            "Place pallet 117 containing SKU 47898 in cell L265202 at time 0.0 for 53.5 for a total freeze time of 53.5\n",
            "Place pallet 118 containing SKU 14217 in cell L265332 at time 0.0 for 55.75 for a total freeze time of 55.75\n",
            "Place pallet 119 containing SKU 15017 in cell L266171 at time 0.0 for 54.75 for a total freeze time of 54.75\n",
            "Place pallet 120 containing SKU 30128 in cell L266341 at time 0.0 for 61.5 for a total freeze time of 61.5\n",
            "Place pallet 121 containing SKU 35529 in cell L266193 at time 0.0 for 72.0 for a total freeze time of 72.0\n",
            "Place pallet 122 containing SKU 15319 in cell L265276 at time 0.0 for 50.0 for a total freeze time of 50.0\n",
            "Place pallet 123 containing SKU 30128 in cell L266281 at time 0.0 for 61.5 for a total freeze time of 61.5\n",
            "Place pallet 124 containing SKU 5025 in cell L265341 at time 0.0 for 46.0 for a total freeze time of 46.0\n",
            "Place pallet 125 containing SKU 5528 in cell L266121 at time 0.0 for 36.25 for a total freeze time of 36.25\n",
            "Place pallet 126 containing SKU 49828 in cell L266285 at time 0.0 for 37.25 for a total freeze time of 37.25\n",
            "Place pallet 127 containing SKU 116362 in cell L265264 at time 0.0 for 72.0 for a total freeze time of 72.0\n",
            "Place pallet 128 containing SKU 5025 in cell L266196 at time 0.0 for 46.0 for a total freeze time of 46.0\n",
            "Place pallet 129 containing SKU 5025 in cell L266233 at time 0.0 for 46.0 for a total freeze time of 46.0\n",
            "Place pallet 130 containing SKU 34728 in cell L266222 at time 0.0 for 72.0 for a total freeze time of 72.0\n",
            "Place pallet 131 containing SKU 30128 in cell L265356 at time 0.0 for 61.5 for a total freeze time of 61.5\n",
            "Place pallet 132 containing SKU 30128 in cell L265274 at time 0.0 for 61.5 for a total freeze time of 61.5\n",
            "Place pallet 133 containing SKU 47898 in cell L266162 at time 0.0 for 53.5 for a total freeze time of 53.5\n",
            "Place pallet 134 containing SKU 47898 in cell L266334 at time 0.0 for 53.5 for a total freeze time of 53.5\n",
            "Place pallet 135 containing SKU 47898 in cell L266153 at time 0.0 for 53.5 for a total freeze time of 53.5\n",
            "Place pallet 136 containing SKU 5111 in cell L266261 at time 0.0 for 46.0 for a total freeze time of 46.0\n",
            "Place pallet 137 containing SKU 30128 in cell L265282 at time 0.0 for 61.5 for a total freeze time of 61.5\n",
            "Place pallet 138 containing SKU 5025 in cell L265353 at time 0.0 for 46.0 for a total freeze time of 46.0\n",
            "Place pallet 139 containing SKU 30128 in cell L266123 at time 0.0 for 61.5 for a total freeze time of 61.5\n",
            "Place pallet 140 containing SKU 30128 in cell L266275 at time 0.0 for 61.5 for a total freeze time of 61.5\n",
            "Place pallet 141 containing SKU 15017 in cell L265194 at time 0.0 for 54.75 for a total freeze time of 54.75\n",
            "Place pallet 142 containing SKU 15017 in cell L265154 at time 0.0 for 54.75 for a total freeze time of 54.75\n",
            "Place pallet 143 containing SKU 15017 in cell L266323 at time 0.0 for 54.75 for a total freeze time of 54.75\n",
            "Place pallet 144 containing SKU 14217 in cell L266296 at time 0.0 for 55.75 for a total freeze time of 55.75\n",
            "Place pallet 145 containing SKU 5025 in cell L265262 at time 0.0 for 46.0 for a total freeze time of 46.0\n",
            "Place pallet 146 containing SKU 49538 in cell L266265 at time 0.0 for 43.75 for a total freeze time of 43.75\n",
            "Place pallet 147 containing SKU 47898 in cell L266332 at time 0.0 for 53.5 for a total freeze time of 53.5\n",
            "Place pallet 148 containing SKU 5710 in cell L265152 at time 0.0 for 41.5 for a total freeze time of 41.5\n",
            "Place pallet 149 containing SKU 5528 in cell L265316 at time 0.0 for 36.25 for a total freeze time of 36.25\n",
            "Place pallet 150 containing SKU 15017 in cell L266335 at time 0.0 for 54.75 for a total freeze time of 54.75\n",
            "Place pallet 151 containing SKU 5000 in cell L265272 at time 0.0 for 51.25 for a total freeze time of 51.25\n",
            "Place pallet 152 containing SKU 5025 in cell L265301 at time 0.0 for 46.0 for a total freeze time of 46.0\n",
            "Place pallet 153 containing SKU 5028 in cell L265286 at time 0.0 for 27.75 for a total freeze time of 27.75\n",
            "Place pallet 154 containing SKU 5027 in cell L266191 at time 0.0 for 33.0 for a total freeze time of 33.0\n",
            "Place pallet 155 containing SKU 5000 in cell L265153 at time 0.0 for 51.25 for a total freeze time of 51.25\n",
            "Place pallet 156 containing SKU 5336 in cell L266142 at time 0.0 for 27.75 for a total freeze time of 27.75\n",
            "Place pallet 157 containing SKU 15017 in cell L265215 at time 0.0 for 54.75 for a total freeze time of 54.75\n",
            "Place pallet 158 containing SKU 49238 in cell L265312 at time 0.0 for 72.0 for a total freeze time of 72.0\n",
            "Place pallet 159 containing SKU 5509 in cell L266302 at time 0.0 for 43.0 for a total freeze time of 43.0\n",
            "Place pallet 160 containing SKU 49238 in cell L266161 at time 0.0 for 72.0 for a total freeze time of 72.0\n",
            "Place pallet 161 containing SKU 49238 in cell L265273 at time 0.0 for 72.0 for a total freeze time of 72.0\n",
            "Place pallet 162 containing SKU 1521 in cell L266314 at time 0.0 for 51.25 for a total freeze time of 51.25\n",
            "Place pallet 163 containing SKU 5712 in cell L266322 at time 0.0 for 27.75 for a total freeze time of 27.75\n",
            "Place pallet 164 containing SKU 5711 in cell L266272 at time 0.0 for 33.0 for a total freeze time of 33.0\n",
            "Place pallet 165 containing SKU 30128 in cell L265242 at time 0.0 for 61.5 for a total freeze time of 61.5\n",
            "Place pallet 166 containing SKU 5028 in cell L266263 at time 0.0 for 27.75 for a total freeze time of 27.75\n",
            "Place pallet 167 containing SKU 30128 in cell L266185 at time 0.0 for 61.5 for a total freeze time of 61.5\n",
            "Place pallet 168 containing SKU 30128 in cell L266195 at time 0.0 for 61.5 for a total freeze time of 61.5\n",
            "Place pallet 169 containing SKU 30128 in cell L266306 at time 0.0 for 61.5 for a total freeze time of 61.5\n",
            "Place pallet 170 containing SKU 31328 in cell L265294 at time 0.0 for 34.0 for a total freeze time of 34.0\n",
            "Place pallet 171 containing SKU 5712 in cell L265315 at time 0.0 for 27.75 for a total freeze time of 27.75\n",
            "Place pallet 172 containing SKU 41328 in cell L266295 at time 0.0 for 72.0 for a total freeze time of 72.0\n",
            "Place pallet 173 containing SKU 5000 in cell L266176 at time 0.0 for 51.25 for a total freeze time of 51.25\n",
            "Place pallet 174 containing SKU 35529 in cell L266353 at time 0.0 for 72.0 for a total freeze time of 72.0\n",
            "Place pallet 175 containing SKU 35027 in cell L266343 at time 0.0 for 54.75 for a total freeze time of 54.75\n",
            "Place pallet 176 containing SKU 35027 in cell L266131 at time 0.0 for 54.75 for a total freeze time of 54.75\n",
            "Place pallet 177 containing SKU 11018 in cell L266351 at time 0.0 for 43.75 for a total freeze time of 43.75\n",
            "Place pallet 178 containing SKU 43227 in cell L265334 at time 0.0 for 54.75 for a total freeze time of 54.75\n",
            "Place pallet 179 containing SKU 5509 in cell L265263 at time 0.0 for 43.0 for a total freeze time of 43.0\n",
            "Place pallet 180 containing SKU 5000 in cell L265326 at time 0.0 for 51.25 for a total freeze time of 51.25\n",
            "Place pallet 181 containing SKU 5712 in cell L266163 at time 0.0 for 27.75 for a total freeze time of 27.75\n",
            "Place pallet 182 containing SKU 32228 in cell L266316 at time 0.0 for 72.0 for a total freeze time of 72.0\n",
            "Place pallet 183 containing SKU 5025 in cell L265343 at time 0.0 for 46.0 for a total freeze time of 46.0\n",
            "Place pallet 184 containing SKU 5027 in cell L266262 at time 0.0 for 33.0 for a total freeze time of 33.0\n",
            "Place pallet 185 containing SKU 5000 in cell L265355 at time 0.0 for 51.25 for a total freeze time of 51.25\n",
            "Place pallet 186 containing SKU 5000 in cell L265295 at time 0.0 for 51.25 for a total freeze time of 51.25\n",
            "Place pallet 187 containing SKU 1521 in cell L266294 at time 0.0 for 51.25 for a total freeze time of 51.25\n",
            "Place pallet 188 containing SKU 5712 in cell L265354 at time 0.0 for 27.75 for a total freeze time of 27.75\n",
            "Place pallet 189 containing SKU 5000 in cell L265303 at time 0.0 for 51.25 for a total freeze time of 51.25\n",
            "Place pallet 190 containing SKU 5528 in cell L266273 at time 0.0 for 36.25 for a total freeze time of 36.25\n",
            "Place pallet 191 containing SKU 5710 in cell L266326 at time 0.0 for 41.5 for a total freeze time of 41.5\n",
            "Place pallet 192 containing SKU 15017 in cell L265284 at time 0.0 for 54.75 for a total freeze time of 54.75\n",
            "Place pallet 193 containing SKU 35027 in cell L266245 at time 0.0 for 54.75 for a total freeze time of 54.75\n",
            "Place pallet 194 containing SKU 35027 in cell L265351 at time 0.0 for 54.75 for a total freeze time of 54.75\n",
            "Place pallet 195 containing SKU 30128 in cell L266283 at time 0.0 for 61.5 for a total freeze time of 61.5\n",
            "Place pallet 196 containing SKU 5331 in cell L265206 at time 0.0 for 51.25 for a total freeze time of 51.25\n",
            "Place pallet 197 containing SKU 1521 in cell L265322 at time 0.0 for 51.25 for a total freeze time of 51.25\n",
            "Place pallet 198 containing SKU 5028 in cell L266124 at time 0.0 for 27.75 for a total freeze time of 27.75\n",
            "Place pallet 199 containing SKU 5025 in cell L265165 at time 0.0 for 46.0 for a total freeze time of 46.0\n",
            "Place pallet 200 containing SKU 15017 in cell L265212 at time 0.0 for 54.75 for a total freeze time of 54.75\n"
          ]
        }
      ],
      "source": [
        "# Display output\n",
        "print(\"The number of pallets from load(s) on truck(s) =\", len(pallet_data))\n",
        "print(\"The number of cells in the freezer =\", len(cell_data))\n",
        "print(\"The minimum required time to freeze all pallets from load(s) on truck(s) by optimally allocating pallets into cells in the freezer =\", ampl.getObjective('Time_Objective').value(), \" hours\")\n",
        "print(\"\\n\")\n",
        "print(\"ALLOCATION SCHEDULE: \\n\")\n",
        "print(\"Optimal Pallet in Cell allocation is as follows:\")\n",
        "\n",
        "for idx, row in solution_df.iterrows():\n",
        "    print(f\"Place pallet {row['Pallets']} containing SKU {row['Pallet_SKU']} in cell {row['Cells']} at time {row['Rem_TimeToFreeze']} for {row['Pallet_TimeToFreeze']} for a total freeze time of {row['Total_Freeze_Time']}\")\n"
      ]
    }
  ],
  "metadata": {
    "colab": {
      "provenance": []
    },
    "kernelspec": {
      "display_name": "Python 3",
      "name": "python3"
    },
    "language_info": {
      "name": "python"
    }
  },
  "nbformat": 4,
  "nbformat_minor": 0
}
