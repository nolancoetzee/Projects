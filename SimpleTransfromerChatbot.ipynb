{
  "cells": [
    {
      "cell_type": "markdown",
      "metadata": {},
      "source": [
        "Simple Transformer - Nolan Coetzee NEED MORE DATA Model is STRONG! but only 29 paragraphs is nothing. I will now try pre-trained models like GPT2"
      ]
    },
    {
      "cell_type": "code",
      "execution_count": 1,
      "metadata": {
        "id": "3Vm2IcudFPrj"
      },
      "outputs": [
        {
          "name": "stdout",
          "output_type": "stream",
          "text": [
            "Requirement already satisfied: scikeras in c:\\users\\nmcoe\\appdata\\local\\programs\\python\\python312\\lib\\site-packages (0.13.0)\n",
            "Requirement already satisfied: keras>=3.2.0 in c:\\users\\nmcoe\\appdata\\local\\programs\\python\\python312\\lib\\site-packages (from scikeras) (3.8.0)\n",
            "Requirement already satisfied: scikit-learn>=1.4.2 in c:\\users\\nmcoe\\appdata\\local\\programs\\python\\python312\\lib\\site-packages (from scikeras) (1.6.1)\n",
            "Requirement already satisfied: absl-py in c:\\users\\nmcoe\\appdata\\local\\programs\\python\\python312\\lib\\site-packages (from keras>=3.2.0->scikeras) (2.1.0)\n",
            "Requirement already satisfied: numpy in c:\\users\\nmcoe\\appdata\\roaming\\python\\python312\\site-packages (from keras>=3.2.0->scikeras) (2.2.3)\n",
            "Requirement already satisfied: rich in c:\\users\\nmcoe\\appdata\\local\\programs\\python\\python312\\lib\\site-packages (from keras>=3.2.0->scikeras) (13.9.4)\n",
            "Requirement already satisfied: namex in c:\\users\\nmcoe\\appdata\\local\\programs\\python\\python312\\lib\\site-packages (from keras>=3.2.0->scikeras) (0.0.8)\n",
            "Requirement already satisfied: h5py in c:\\users\\nmcoe\\appdata\\local\\programs\\python\\python312\\lib\\site-packages (from keras>=3.2.0->scikeras) (3.13.0)\n",
            "Requirement already satisfied: optree in c:\\users\\nmcoe\\appdata\\local\\programs\\python\\python312\\lib\\site-packages (from keras>=3.2.0->scikeras) (0.14.0)\n",
            "Requirement already satisfied: ml-dtypes in c:\\users\\nmcoe\\appdata\\local\\programs\\python\\python312\\lib\\site-packages (from keras>=3.2.0->scikeras) (0.5.1)\n",
            "Requirement already satisfied: packaging in c:\\users\\nmcoe\\appdata\\roaming\\python\\python312\\site-packages (from keras>=3.2.0->scikeras) (24.2)\n",
            "Requirement already satisfied: scipy>=1.6.0 in c:\\users\\nmcoe\\appdata\\local\\programs\\python\\python312\\lib\\site-packages (from scikit-learn>=1.4.2->scikeras) (1.15.2)\n",
            "Requirement already satisfied: joblib>=1.2.0 in c:\\users\\nmcoe\\appdata\\local\\programs\\python\\python312\\lib\\site-packages (from scikit-learn>=1.4.2->scikeras) (1.4.2)\n",
            "Requirement already satisfied: threadpoolctl>=3.1.0 in c:\\users\\nmcoe\\appdata\\local\\programs\\python\\python312\\lib\\site-packages (from scikit-learn>=1.4.2->scikeras) (3.5.0)\n",
            "Requirement already satisfied: typing-extensions>=4.5.0 in c:\\users\\nmcoe\\appdata\\local\\programs\\python\\python312\\lib\\site-packages (from optree->keras>=3.2.0->scikeras) (4.12.2)\n",
            "Requirement already satisfied: markdown-it-py>=2.2.0 in c:\\users\\nmcoe\\appdata\\local\\programs\\python\\python312\\lib\\site-packages (from rich->keras>=3.2.0->scikeras) (3.0.0)\n",
            "Requirement already satisfied: pygments<3.0.0,>=2.13.0 in c:\\users\\nmcoe\\appdata\\roaming\\python\\python312\\site-packages (from rich->keras>=3.2.0->scikeras) (2.19.1)\n",
            "Requirement already satisfied: mdurl~=0.1 in c:\\users\\nmcoe\\appdata\\local\\programs\\python\\python312\\lib\\site-packages (from markdown-it-py>=2.2.0->rich->keras>=3.2.0->scikeras) (0.1.2)\n"
          ]
        },
        {
          "name": "stderr",
          "output_type": "stream",
          "text": [
            "WARNING: Ignoring invalid distribution ~ (C:\\Users\\nmcoe\\AppData\\Local\\Programs\\Python\\Python312\\Lib\\site-packages)\n",
            "WARNING: Ignoring invalid distribution ~-p (C:\\Users\\nmcoe\\AppData\\Local\\Programs\\Python\\Python312\\Lib\\site-packages)\n",
            "WARNING: Ignoring invalid distribution ~ip (C:\\Users\\nmcoe\\AppData\\Local\\Programs\\Python\\Python312\\Lib\\site-packages)\n",
            "WARNING: Ignoring invalid distribution ~~p (C:\\Users\\nmcoe\\AppData\\Local\\Programs\\Python\\Python312\\Lib\\site-packages)\n",
            "WARNING: Ignoring invalid distribution ~ (C:\\Users\\nmcoe\\AppData\\Local\\Programs\\Python\\Python312\\Lib\\site-packages)\n",
            "WARNING: Ignoring invalid distribution ~-p (C:\\Users\\nmcoe\\AppData\\Local\\Programs\\Python\\Python312\\Lib\\site-packages)\n",
            "WARNING: Ignoring invalid distribution ~ip (C:\\Users\\nmcoe\\AppData\\Local\\Programs\\Python\\Python312\\Lib\\site-packages)\n",
            "WARNING: Ignoring invalid distribution ~~p (C:\\Users\\nmcoe\\AppData\\Local\\Programs\\Python\\Python312\\Lib\\site-packages)\n",
            "WARNING: Ignoring invalid distribution ~ (C:\\Users\\nmcoe\\AppData\\Local\\Programs\\Python\\Python312\\Lib\\site-packages)\n",
            "WARNING: Ignoring invalid distribution ~-p (C:\\Users\\nmcoe\\AppData\\Local\\Programs\\Python\\Python312\\Lib\\site-packages)\n",
            "WARNING: Ignoring invalid distribution ~ip (C:\\Users\\nmcoe\\AppData\\Local\\Programs\\Python\\Python312\\Lib\\site-packages)\n",
            "WARNING: Ignoring invalid distribution ~~p (C:\\Users\\nmcoe\\AppData\\Local\\Programs\\Python\\Python312\\Lib\\site-packages)\n",
            "WARNING: Ignoring invalid distribution ~ (C:\\Users\\nmcoe\\AppData\\Local\\Programs\\Python\\Python312\\Lib\\site-packages)\n",
            "WARNING: Ignoring invalid distribution ~-p (C:\\Users\\nmcoe\\AppData\\Local\\Programs\\Python\\Python312\\Lib\\site-packages)\n",
            "WARNING: Ignoring invalid distribution ~ip (C:\\Users\\nmcoe\\AppData\\Local\\Programs\\Python\\Python312\\Lib\\site-packages)\n",
            "WARNING: Ignoring invalid distribution ~~p (C:\\Users\\nmcoe\\AppData\\Local\\Programs\\Python\\Python312\\Lib\\site-packages)\n"
          ]
        }
      ],
      "source": [
        "!pip install scikeras"
      ]
    },
    {
      "cell_type": "code",
      "execution_count": 2,
      "metadata": {
        "id": "r8XdgmLneWRh"
      },
      "outputs": [
        {
          "name": "stdout",
          "output_type": "stream",
          "text": [
            "Requirement already satisfied: nltk in c:\\users\\nmcoe\\appdata\\local\\programs\\python\\python312\\lib\\site-packages (3.9.1)\n",
            "Requirement already satisfied: click in c:\\users\\nmcoe\\appdata\\local\\programs\\python\\python312\\lib\\site-packages (from nltk) (8.1.8)\n",
            "Requirement already satisfied: joblib in c:\\users\\nmcoe\\appdata\\local\\programs\\python\\python312\\lib\\site-packages (from nltk) (1.4.2)\n",
            "Requirement already satisfied: regex>=2021.8.3 in c:\\users\\nmcoe\\appdata\\local\\programs\\python\\python312\\lib\\site-packages (from nltk) (2024.11.6)\n",
            "Requirement already satisfied: tqdm in c:\\users\\nmcoe\\appdata\\local\\programs\\python\\python312\\lib\\site-packages (from nltk) (4.67.1)\n",
            "Requirement already satisfied: colorama in c:\\users\\nmcoe\\appdata\\roaming\\python\\python312\\site-packages (from click->nltk) (0.4.6)\n",
            "Note: you may need to restart the kernel to use updated packages.\n"
          ]
        },
        {
          "name": "stderr",
          "output_type": "stream",
          "text": [
            "WARNING: Ignoring invalid distribution ~ (c:\\Users\\nmcoe\\AppData\\Local\\Programs\\Python\\Python312\\Lib\\site-packages)\n",
            "WARNING: Ignoring invalid distribution ~-p (c:\\Users\\nmcoe\\AppData\\Local\\Programs\\Python\\Python312\\Lib\\site-packages)\n",
            "WARNING: Ignoring invalid distribution ~ip (c:\\Users\\nmcoe\\AppData\\Local\\Programs\\Python\\Python312\\Lib\\site-packages)\n",
            "WARNING: Ignoring invalid distribution ~~p (c:\\Users\\nmcoe\\AppData\\Local\\Programs\\Python\\Python312\\Lib\\site-packages)\n",
            "WARNING: Ignoring invalid distribution ~ (c:\\Users\\nmcoe\\AppData\\Local\\Programs\\Python\\Python312\\Lib\\site-packages)\n",
            "WARNING: Ignoring invalid distribution ~-p (c:\\Users\\nmcoe\\AppData\\Local\\Programs\\Python\\Python312\\Lib\\site-packages)\n",
            "WARNING: Ignoring invalid distribution ~ip (c:\\Users\\nmcoe\\AppData\\Local\\Programs\\Python\\Python312\\Lib\\site-packages)\n",
            "WARNING: Ignoring invalid distribution ~~p (c:\\Users\\nmcoe\\AppData\\Local\\Programs\\Python\\Python312\\Lib\\site-packages)\n",
            "WARNING: Ignoring invalid distribution ~ (c:\\Users\\nmcoe\\AppData\\Local\\Programs\\Python\\Python312\\Lib\\site-packages)\n",
            "WARNING: Ignoring invalid distribution ~-p (c:\\Users\\nmcoe\\AppData\\Local\\Programs\\Python\\Python312\\Lib\\site-packages)\n",
            "WARNING: Ignoring invalid distribution ~ip (c:\\Users\\nmcoe\\AppData\\Local\\Programs\\Python\\Python312\\Lib\\site-packages)\n",
            "WARNING: Ignoring invalid distribution ~~p (c:\\Users\\nmcoe\\AppData\\Local\\Programs\\Python\\Python312\\Lib\\site-packages)\n",
            "WARNING: Ignoring invalid distribution ~ (c:\\Users\\nmcoe\\AppData\\Local\\Programs\\Python\\Python312\\Lib\\site-packages)\n",
            "WARNING: Ignoring invalid distribution ~-p (c:\\Users\\nmcoe\\AppData\\Local\\Programs\\Python\\Python312\\Lib\\site-packages)\n",
            "WARNING: Ignoring invalid distribution ~ip (c:\\Users\\nmcoe\\AppData\\Local\\Programs\\Python\\Python312\\Lib\\site-packages)\n",
            "WARNING: Ignoring invalid distribution ~~p (c:\\Users\\nmcoe\\AppData\\Local\\Programs\\Python\\Python312\\Lib\\site-packages)\n"
          ]
        }
      ],
      "source": [
        "pip install nltk"
      ]
    },
    {
      "cell_type": "code",
      "execution_count": 5,
      "metadata": {
        "id": "o26cNcz1FKKi"
      },
      "outputs": [],
      "source": [
        "\n",
        "# import libraries\n",
        "\n",
        "import pandas as pd\n",
        "import numpy as np\n",
        "import matplotlib.pyplot as plt\n"
      ]
    },
    {
      "cell_type": "code",
      "execution_count": 7,
      "metadata": {
        "id": "6VRRdofg08HJ"
      },
      "outputs": [
        {
          "name": "stdout",
          "output_type": "stream",
          "text": [
            "Loaded 29 entries\n",
            "                                                Data\n",
            "0  George Washington, the first President of the ...\n",
            "1  George Washington, often called the Father of ...\n",
            "2  George Washington, revered for his leadership,...\n",
            "3  George Washington, known for his military and ...\n",
            "4  George Washington, the first President of the ...\n"
          ]
        }
      ],
      "source": [
        "import pandas as pd\n",
        "\n",
        "# Replace 'Username' with your actual Windows username\n",
        "# Assumes the file is directly on the Desktop\n",
        "file_path = r\"C:\\Users\\nmcoe\\OneDrive\\Desktop\\Data3.csv\"\n",
        "df = pd.read_csv(file_path, encoding='cp1252')  # Windows-1252\n",
        "print(f\"Loaded {len(df)} entries\")\n",
        "print(df.head())"
      ]
    },
    {
      "cell_type": "code",
      "execution_count": 8,
      "metadata": {
        "id": "gOypMf6Y6TdI"
      },
      "outputs": [
        {
          "data": {
            "text/html": [
              "<div>\n",
              "<style scoped>\n",
              "    .dataframe tbody tr th:only-of-type {\n",
              "        vertical-align: middle;\n",
              "    }\n",
              "\n",
              "    .dataframe tbody tr th {\n",
              "        vertical-align: top;\n",
              "    }\n",
              "\n",
              "    .dataframe thead th {\n",
              "        text-align: right;\n",
              "    }\n",
              "</style>\n",
              "<table border=\"1\" class=\"dataframe\">\n",
              "  <thead>\n",
              "    <tr style=\"text-align: right;\">\n",
              "      <th></th>\n",
              "      <th>Data</th>\n",
              "    </tr>\n",
              "  </thead>\n",
              "  <tbody>\n",
              "    <tr>\n",
              "      <th>0</th>\n",
              "      <td>George Washington, the first President of the ...</td>\n",
              "    </tr>\n",
              "    <tr>\n",
              "      <th>1</th>\n",
              "      <td>George Washington, often called the Father of ...</td>\n",
              "    </tr>\n",
              "    <tr>\n",
              "      <th>2</th>\n",
              "      <td>George Washington, revered for his leadership,...</td>\n",
              "    </tr>\n",
              "    <tr>\n",
              "      <th>3</th>\n",
              "      <td>George Washington, known for his military and ...</td>\n",
              "    </tr>\n",
              "    <tr>\n",
              "      <th>4</th>\n",
              "      <td>George Washington, the first President of the ...</td>\n",
              "    </tr>\n",
              "  </tbody>\n",
              "</table>\n",
              "</div>"
            ],
            "text/plain": [
              "                                                Data\n",
              "0  George Washington, the first President of the ...\n",
              "1  George Washington, often called the Father of ...\n",
              "2  George Washington, revered for his leadership,...\n",
              "3  George Washington, known for his military and ...\n",
              "4  George Washington, the first President of the ..."
            ]
          },
          "execution_count": 8,
          "metadata": {},
          "output_type": "execute_result"
        }
      ],
      "source": [
        "df_sub = df[[\n",
        "    \"Data\"\n",
        "]]\n",
        "\n",
        "# Display the first few rows of the subset DataFrame\n",
        "df_sub.head()"
      ]
    },
    {
      "cell_type": "code",
      "execution_count": 9,
      "metadata": {
        "id": "ZEOuAj3Ce1-M"
      },
      "outputs": [
        {
          "name": "stdout",
          "output_type": "stream",
          "text": [
            "^C\n",
            "^C\n",
            "Requirement already satisfied: nltk in c:\\users\\nmcoe\\appdata\\local\\programs\\python\\python312\\lib\\site-packages (3.9.1)\n",
            "Requirement already satisfied: click in c:\\users\\nmcoe\\appdata\\local\\programs\\python\\python312\\lib\\site-packages (from nltk) (8.1.8)\n",
            "Requirement already satisfied: joblib in c:\\users\\nmcoe\\appdata\\local\\programs\\python\\python312\\lib\\site-packages (from nltk) (1.4.2)\n",
            "Requirement already satisfied: regex>=2021.8.3 in c:\\users\\nmcoe\\appdata\\local\\programs\\python\\python312\\lib\\site-packages (from nltk) (2024.11.6)\n",
            "Requirement already satisfied: tqdm in c:\\users\\nmcoe\\appdata\\local\\programs\\python\\python312\\lib\\site-packages (from nltk) (4.67.1)\n",
            "Requirement already satisfied: colorama in c:\\users\\nmcoe\\appdata\\roaming\\python\\python312\\site-packages (from click->nltk) (0.4.6)\n"
          ]
        },
        {
          "name": "stderr",
          "output_type": "stream",
          "text": [
            "WARNING: Ignoring invalid distribution ~ (C:\\Users\\nmcoe\\AppData\\Local\\Programs\\Python\\Python312\\Lib\\site-packages)\n",
            "WARNING: Ignoring invalid distribution ~-p (C:\\Users\\nmcoe\\AppData\\Local\\Programs\\Python\\Python312\\Lib\\site-packages)\n",
            "WARNING: Ignoring invalid distribution ~ip (C:\\Users\\nmcoe\\AppData\\Local\\Programs\\Python\\Python312\\Lib\\site-packages)\n",
            "WARNING: Ignoring invalid distribution ~~p (C:\\Users\\nmcoe\\AppData\\Local\\Programs\\Python\\Python312\\Lib\\site-packages)\n",
            "WARNING: Ignoring invalid distribution ~ (C:\\Users\\nmcoe\\AppData\\Local\\Programs\\Python\\Python312\\Lib\\site-packages)\n",
            "WARNING: Ignoring invalid distribution ~-p (C:\\Users\\nmcoe\\AppData\\Local\\Programs\\Python\\Python312\\Lib\\site-packages)\n",
            "WARNING: Ignoring invalid distribution ~ip (C:\\Users\\nmcoe\\AppData\\Local\\Programs\\Python\\Python312\\Lib\\site-packages)\n",
            "WARNING: Ignoring invalid distribution ~~p (C:\\Users\\nmcoe\\AppData\\Local\\Programs\\Python\\Python312\\Lib\\site-packages)\n",
            "WARNING: Ignoring invalid distribution ~ (C:\\Users\\nmcoe\\AppData\\Local\\Programs\\Python\\Python312\\Lib\\site-packages)\n",
            "WARNING: Ignoring invalid distribution ~-p (C:\\Users\\nmcoe\\AppData\\Local\\Programs\\Python\\Python312\\Lib\\site-packages)\n",
            "WARNING: Ignoring invalid distribution ~ip (C:\\Users\\nmcoe\\AppData\\Local\\Programs\\Python\\Python312\\Lib\\site-packages)\n",
            "WARNING: Ignoring invalid distribution ~~p (C:\\Users\\nmcoe\\AppData\\Local\\Programs\\Python\\Python312\\Lib\\site-packages)\n"
          ]
        },
        {
          "name": "stdout",
          "output_type": "stream",
          "text": [
            "Collecting numpy==1.26.4\n",
            "  Downloading numpy-1.26.4-cp312-cp312-win_amd64.whl.metadata (61 kB)\n",
            "Downloading numpy-1.26.4-cp312-cp312-win_amd64.whl (15.5 MB)\n",
            "   ---------------------------------------- 0.0/15.5 MB ? eta -:--:--\n",
            "   ---------- ----------------------------- 3.9/15.5 MB 26.0 MB/s eta 0:00:01\n",
            "   ---------------------- ----------------- 8.9/15.5 MB 32.5 MB/s eta 0:00:01\n",
            "   ---------------------------------------- 15.5/15.5 MB 29.6 MB/s eta 0:00:00\n",
            "Installing collected packages: numpy\n",
            "  Attempting uninstall: numpy\n",
            "    Found existing installation: numpy 2.2.3\n",
            "    Uninstalling numpy-2.2.3:\n",
            "      Successfully uninstalled numpy-2.2.3\n",
            "Successfully installed numpy-1.26.4\n"
          ]
        },
        {
          "name": "stderr",
          "output_type": "stream",
          "text": [
            "WARNING: Ignoring invalid distribution ~ (C:\\Users\\nmcoe\\AppData\\Local\\Programs\\Python\\Python312\\Lib\\site-packages)\n",
            "WARNING: Ignoring invalid distribution ~-p (C:\\Users\\nmcoe\\AppData\\Local\\Programs\\Python\\Python312\\Lib\\site-packages)\n",
            "WARNING: Ignoring invalid distribution ~ip (C:\\Users\\nmcoe\\AppData\\Local\\Programs\\Python\\Python312\\Lib\\site-packages)\n",
            "WARNING: Ignoring invalid distribution ~~p (C:\\Users\\nmcoe\\AppData\\Local\\Programs\\Python\\Python312\\Lib\\site-packages)\n",
            "WARNING: Ignoring invalid distribution ~ (C:\\Users\\nmcoe\\AppData\\Local\\Programs\\Python\\Python312\\Lib\\site-packages)\n",
            "WARNING: Ignoring invalid distribution ~-p (C:\\Users\\nmcoe\\AppData\\Local\\Programs\\Python\\Python312\\Lib\\site-packages)\n",
            "WARNING: Ignoring invalid distribution ~ip (C:\\Users\\nmcoe\\AppData\\Local\\Programs\\Python\\Python312\\Lib\\site-packages)\n",
            "WARNING: Ignoring invalid distribution ~~p (C:\\Users\\nmcoe\\AppData\\Local\\Programs\\Python\\Python312\\Lib\\site-packages)\n",
            "WARNING: Ignoring invalid distribution ~ (C:\\Users\\nmcoe\\AppData\\Local\\Programs\\Python\\Python312\\Lib\\site-packages)\n",
            "WARNING: Ignoring invalid distribution ~-p (C:\\Users\\nmcoe\\AppData\\Local\\Programs\\Python\\Python312\\Lib\\site-packages)\n",
            "WARNING: Ignoring invalid distribution ~ip (C:\\Users\\nmcoe\\AppData\\Local\\Programs\\Python\\Python312\\Lib\\site-packages)\n",
            "WARNING: Ignoring invalid distribution ~~p (C:\\Users\\nmcoe\\AppData\\Local\\Programs\\Python\\Python312\\Lib\\site-packages)\n",
            "  WARNING: Failed to remove contents in a temporary directory 'C:\\Users\\nmcoe\\AppData\\Roaming\\Python\\Python312\\site-packages\\~umpy.libs'.\n",
            "  You can safely remove it manually.\n",
            "  WARNING: Failed to remove contents in a temporary directory 'C:\\Users\\nmcoe\\AppData\\Roaming\\Python\\Python312\\site-packages\\~umpy'.\n",
            "  You can safely remove it manually.\n",
            "WARNING: Ignoring invalid distribution ~ (C:\\Users\\nmcoe\\AppData\\Local\\Programs\\Python\\Python312\\Lib\\site-packages)\n",
            "WARNING: Ignoring invalid distribution ~-p (C:\\Users\\nmcoe\\AppData\\Local\\Programs\\Python\\Python312\\Lib\\site-packages)\n",
            "WARNING: Ignoring invalid distribution ~ip (C:\\Users\\nmcoe\\AppData\\Local\\Programs\\Python\\Python312\\Lib\\site-packages)\n",
            "WARNING: Ignoring invalid distribution ~~p (C:\\Users\\nmcoe\\AppData\\Local\\Programs\\Python\\Python312\\Lib\\site-packages)\n",
            "WARNING: Ignoring invalid distribution ~ (C:\\Users\\nmcoe\\AppData\\Local\\Programs\\Python\\Python312\\Lib\\site-packages)\n",
            "WARNING: Ignoring invalid distribution ~-p (C:\\Users\\nmcoe\\AppData\\Local\\Programs\\Python\\Python312\\Lib\\site-packages)\n",
            "WARNING: Ignoring invalid distribution ~ip (C:\\Users\\nmcoe\\AppData\\Local\\Programs\\Python\\Python312\\Lib\\site-packages)\n",
            "WARNING: Ignoring invalid distribution ~~p (C:\\Users\\nmcoe\\AppData\\Local\\Programs\\Python\\Python312\\Lib\\site-packages)\n",
            "WARNING: Ignoring invalid distribution ~ (C:\\Users\\nmcoe\\AppData\\Local\\Programs\\Python\\Python312\\Lib\\site-packages)\n",
            "WARNING: Ignoring invalid distribution ~-p (C:\\Users\\nmcoe\\AppData\\Local\\Programs\\Python\\Python312\\Lib\\site-packages)\n",
            "WARNING: Ignoring invalid distribution ~ip (C:\\Users\\nmcoe\\AppData\\Local\\Programs\\Python\\Python312\\Lib\\site-packages)\n",
            "WARNING: Ignoring invalid distribution ~~p (C:\\Users\\nmcoe\\AppData\\Local\\Programs\\Python\\Python312\\Lib\\site-packages)\n",
            "WARNING: Ignoring invalid distribution ~ (C:\\Users\\nmcoe\\AppData\\Local\\Programs\\Python\\Python312\\Lib\\site-packages)\n",
            "WARNING: Ignoring invalid distribution ~-p (C:\\Users\\nmcoe\\AppData\\Local\\Programs\\Python\\Python312\\Lib\\site-packages)\n",
            "WARNING: Ignoring invalid distribution ~ip (C:\\Users\\nmcoe\\AppData\\Local\\Programs\\Python\\Python312\\Lib\\site-packages)\n",
            "WARNING: Ignoring invalid distribution ~~p (C:\\Users\\nmcoe\\AppData\\Local\\Programs\\Python\\Python312\\Lib\\site-packages)\n"
          ]
        },
        {
          "name": "stdout",
          "output_type": "stream",
          "text": [
            "Requirement already satisfied: numpy in c:\\users\\nmcoe\\appdata\\local\\programs\\python\\python312\\lib\\site-packages (1.26.4)\n",
            "Collecting numpy\n",
            "  Downloading numpy-2.2.3-cp312-cp312-win_amd64.whl.metadata (60 kB)\n",
            "Downloading numpy-2.2.3-cp312-cp312-win_amd64.whl (12.6 MB)\n",
            "   ---------------------------------------- 0.0/12.6 MB ? eta -:--:--\n",
            "   ------------ --------------------------- 3.9/12.6 MB 26.2 MB/s eta 0:00:01\n",
            "   ----------------------------------- ---- 11.3/12.6 MB 30.7 MB/s eta 0:00:01\n",
            "   ---------------------------------------- 12.6/12.6 MB 29.3 MB/s eta 0:00:00\n",
            "Installing collected packages: numpy\n",
            "Successfully installed numpy-2.2.3\n"
          ]
        }
      ],
      "source": [
        "!pip uninstall numpy\n",
        "!pip install numpy==1.26.4\n",
        "!pip install --user -U nltk\n",
        "!pip install --user -U numpy\n",
        "import nltk"
      ]
    },
    {
      "cell_type": "code",
      "execution_count": 46,
      "metadata": {
        "id": "9GIvaLVIeS6H"
      },
      "outputs": [
        {
          "name": "stdout",
          "output_type": "stream",
          "text": [
            "                                                Data  \\\n",
            "0  George Washington, the first President of the ...   \n",
            "1  George Washington, often called the Father of ...   \n",
            "2  George Washington, revered for his leadership,...   \n",
            "3  George Washington, known for his military and ...   \n",
            "4  George Washington, the first President of the ...   \n",
            "\n",
            "                                              tokens  \\\n",
            "0  [George, Washington, ,, the, first, President,...   \n",
            "1  [George, Washington, ,, often, called, the, Fa...   \n",
            "2  [George, Washington, ,, revered, for, his, lea...   \n",
            "3  [George, Washington, ,, known, for, his, milit...   \n",
            "4  [George, Washington, ,, the, first, President,...   \n",
            "\n",
            "                                        sequence_ids  \n",
            "0  [1, 2, 3, 4, 5, 6, 7, 4, 8, 9, 3, 10, 11, 12, ...  \n",
            "1  [1, 2, 3, 48, 49, 4, 50, 7, 36, 51, 3, 52, 4, ...  \n",
            "2  [1, 2, 3, 69, 45, 65, 70, 3, 52, 4, 5, 6, 7, 4...  \n",
            "3  [1, 2, 3, 79, 45, 65, 80, 29, 81, 70, 3, 52, 4...  \n",
            "4  [1, 2, 3, 4, 5, 6, 7, 4, 8, 9, 3, 52, 89, 14, ...  \n",
            "The highest token in sequence_ids is: 329\n"
          ]
        },
        {
          "name": "stderr",
          "output_type": "stream",
          "text": [
            "[nltk_data] Downloading package punkt_tab to\n",
            "[nltk_data]     C:\\Users\\nmcoe\\AppData\\Roaming\\nltk_data...\n",
            "[nltk_data]   Package punkt_tab is already up-to-date!\n",
            "[nltk_data] Downloading package punkt to\n",
            "[nltk_data]     C:\\Users\\nmcoe\\AppData\\Roaming\\nltk_data...\n",
            "[nltk_data]   Package punkt is already up-to-date!\n"
          ]
        }
      ],
      "source": [
        "import nltk\n",
        "import pandas as pd\n",
        "import numpy as np\n",
        "from nltk.tokenize import word_tokenize\n",
        "import matplotlib.pyplot as plt\n",
        "from collections import OrderedDict\n",
        "\n",
        "# Ensure NLTK resources are downloaded\n",
        "nltk.download('punkt_tab')\n",
        "nltk.download('punkt')\n",
        "\n",
        "# Example DataFrame (replace with your actual df_sub)\n",
        "# df_sub = pd.DataFrame({'Data': ['George is running.', 'She walks fast, okay.']})\n",
        "\n",
        "# Tokenize each row\n",
        "def tokenize_phrase(text):\n",
        "    return word_tokenize(text)\n",
        "\n",
        "df_sub['tokens'] = df_sub['Data'].apply(tokenize_phrase)\n",
        "\n",
        "# Create word-to-ID mapping\n",
        "all_words = [word for seq in df_sub['tokens'] for word in seq]\n",
        "unique_words = list(OrderedDict.fromkeys(all_words))  # Remove duplicates while preserving order\n",
        "word_to_id = {word: idx + 1 for idx, word in enumerate(unique_words)}  # IDs from 1\n",
        "vocab_size = len(unique_words) + 1  # +1 for padding token 0\n",
        "id_to_word = {idx: word for word, idx in word_to_id.items()}  # Reverse mapping\n",
        "\n",
        "# Convert tokens to ID sequences\n",
        "df_sub['sequence_ids'] = df_sub['tokens'].apply(lambda seq: [word_to_id[word] for word in seq])\n",
        "\n",
        "print(df_sub[['Data', 'tokens', 'sequence_ids']].head())\n",
        "overall_max_token = max(max(seq) for seq in df_sub['sequence_ids'])\n",
        "print(\"The highest token in sequence_ids is:\", overall_max_token)"
      ]
    },
    {
      "cell_type": "code",
      "execution_count": null,
      "metadata": {},
      "outputs": [
        {
          "ename": "AttributeError",
          "evalue": "'builtin_function_or_method' object has no attribute 'y'",
          "output_type": "error",
          "traceback": [
            "\u001b[1;31m---------------------------------------------------------------------------\u001b[0m",
            "\u001b[1;31mAttributeError\u001b[0m                            Traceback (most recent call last)",
            "Cell \u001b[1;32mIn[45], line 27\u001b[0m\n\u001b[0;32m     24\u001b[0m y \u001b[38;5;241m=\u001b[39m np\u001b[38;5;241m.\u001b[39marray([seq[\u001b[38;5;241m1\u001b[39m:] \u001b[38;5;241m+\u001b[39m [\u001b[38;5;241m0\u001b[39m] \u001b[38;5;28;01mfor\u001b[39;00m seq \u001b[38;5;129;01min\u001b[39;00m df_sub[\u001b[38;5;124m'\u001b[39m\u001b[38;5;124mshifted_sequence\u001b[39m\u001b[38;5;124m'\u001b[39m]\u001b[38;5;241m.\u001b[39mtolist()])  \u001b[38;5;66;03m# Shift left\u001b[39;00m\n\u001b[0;32m     26\u001b[0m \u001b[38;5;66;03m# Output results\u001b[39;00m\n\u001b[1;32m---> 27\u001b[0m \u001b[38;5;28mprint\u001b[39m(\u001b[38;5;28;43mmax\u001b[39;49m\u001b[38;5;241;43m.\u001b[39;49m\u001b[43my\u001b[49m)\n\u001b[0;32m     28\u001b[0m \u001b[38;5;28mprint\u001b[39m(\u001b[38;5;28mmax\u001b[39m\u001b[38;5;241m.\u001b[39mX)\n\u001b[0;32m     29\u001b[0m \u001b[38;5;28mprint\u001b[39m(\u001b[38;5;124m\"\u001b[39m\u001b[38;5;124mX:\u001b[39m\u001b[38;5;124m\"\u001b[39m, X)\n",
            "\u001b[1;31mAttributeError\u001b[0m: 'builtin_function_or_method' object has no attribute 'y'"
          ]
        }
      ],
      "source": [
        "### WITH BEGGINING ZERO\n",
        "\n",
        "import numpy as np\n",
        "\n",
        "# Determine maximum sequence length\n",
        "max_len = max(len(seq) for seq in df_sub['sequence_ids'])  # 7\n",
        "\n",
        "# Pad sequences\n",
        "def pad_sequence(seq, max_len):\n",
        "    return seq + [0] * (max_len - len(seq))\n",
        "\n",
        "df_sub['padded_sequence'] = df_sub['sequence_ids'].apply(lambda seq: pad_sequence(seq, max_len))\n",
        "\n",
        "# Add leading zero to each sequence in X\n",
        "def add_leading_zero(seq):\n",
        "    return [0] + seq[:-1]  # Shift right and add 0 at the start\n",
        "\n",
        "df_sub['shifted_sequence'] = df_sub['padded_sequence'].apply(add_leading_zero)\n",
        "\n",
        "# Create X\n",
        "X = np.array(df_sub['shifted_sequence'].tolist())\n",
        "\n",
        "# Create target sequences (shifted X)\n",
        "y = np.array([seq[1:] + [0] for seq in df_sub['shifted_sequence'].tolist()])  # Shift left\n",
        "\n",
        "# Output results\n",
        "print(\"X:\", X)\n",
        "print(\"y:\", y)\n",
        "\n",
        "\n"
      ]
    },
    {
      "cell_type": "code",
      "execution_count": 30,
      "metadata": {
        "id": "viyTsfemxYop"
      },
      "outputs": [
        {
          "name": "stdout",
          "output_type": "stream",
          "text": [
            "Training Features Shape: (20, 70)\n",
            "Testing Features Shape: (9, 70)\n",
            "Training Target Shape: (20, 70)\n",
            "Testing Target Shape: (9, 70)\n"
          ]
        }
      ],
      "source": [
        "from sklearn.model_selection import train_test_split\n",
        "#Split the dataset into training and testing sets test_size using 0.3: 70% training and 30% testing\n",
        "X_train, X_test, y_train, y_test = train_test_split(X, y, test_size=0.3, random_state=0)\n",
        "\n",
        "#Display the shapes of the resulting datasets\n",
        "print(\"Training Features Shape:\", X_train.shape)\n",
        "print(\"Testing Features Shape:\", X_test.shape)\n",
        "print(\"Training Target Shape:\", y_train.shape)\n",
        "print(\"Testing Target Shape:\", y_test.shape)"
      ]
    },
    {
      "cell_type": "code",
      "execution_count": 31,
      "metadata": {
        "collapsed": true,
        "id": "L0z13sgsO18Y"
      },
      "outputs": [
        {
          "data": {
            "text/plain": [
              "array([[  0,  90,   4, ...,  40,  41,  42],\n",
              "       [  0,   1,   2, ...,   0,   0,   0],\n",
              "       [  0, 161, 162, ...,   0,   0,   0],\n",
              "       ...,\n",
              "       [  0,   2,  63, ...,   0,   0,   0],\n",
              "       [  0, 151, 152, ...,   0,   0,   0],\n",
              "       [  0,   1,   2, ...,   0,   0,   0]], shape=(20, 70))"
            ]
          },
          "execution_count": 31,
          "metadata": {},
          "output_type": "execute_result"
        }
      ],
      "source": [
        "X_train"
      ]
    },
    {
      "cell_type": "markdown",
      "metadata": {
        "id": "Xjf5CZ5WKfuq"
      },
      "source": [
        "Nueral Network\n"
      ]
    },
    {
      "cell_type": "code",
      "execution_count": 32,
      "metadata": {
        "collapsed": true,
        "id": "kjnyhOA1O5eE"
      },
      "outputs": [
        {
          "data": {
            "text/plain": [
              "array([[ 90,   4,   5, ...,  41,  42,   0],\n",
              "       [  1,   2,   3, ...,   0,   0,   0],\n",
              "       [161, 162, 106, ...,   0,   0,   0],\n",
              "       ...,\n",
              "       [  2,  63,  64, ...,   0,   0,   0],\n",
              "       [151, 152, 106, ...,   0,   0,   0],\n",
              "       [  1,   2,   3, ...,   0,   0,   0]], shape=(20, 70))"
            ]
          },
          "execution_count": 32,
          "metadata": {},
          "output_type": "execute_result"
        }
      ],
      "source": [
        "y_train"
      ]
    },
    {
      "cell_type": "code",
      "execution_count": 40,
      "metadata": {},
      "outputs": [
        {
          "name": "stdout",
          "output_type": "stream",
          "text": [
            "Collecting torch\n",
            "  Downloading torch-2.6.0-cp312-cp312-win_amd64.whl.metadata (28 kB)\n",
            "Collecting filelock (from torch)\n",
            "  Downloading filelock-3.17.0-py3-none-any.whl.metadata (2.9 kB)\n",
            "Requirement already satisfied: typing-extensions>=4.10.0 in c:\\users\\nmcoe\\appdata\\local\\programs\\python\\python312\\lib\\site-packages (from torch) (4.12.2)\n",
            "Collecting networkx (from torch)\n",
            "  Downloading networkx-3.4.2-py3-none-any.whl.metadata (6.3 kB)\n",
            "Collecting jinja2 (from torch)\n",
            "  Downloading jinja2-3.1.5-py3-none-any.whl.metadata (2.6 kB)\n",
            "Collecting fsspec (from torch)\n",
            "  Downloading fsspec-2025.2.0-py3-none-any.whl.metadata (11 kB)\n",
            "Collecting setuptools (from torch)\n",
            "  Downloading setuptools-75.8.2-py3-none-any.whl.metadata (6.7 kB)\n",
            "Collecting sympy==1.13.1 (from torch)\n",
            "  Downloading sympy-1.13.1-py3-none-any.whl.metadata (12 kB)\n",
            "Collecting mpmath<1.4,>=1.1.0 (from sympy==1.13.1->torch)\n",
            "  Downloading mpmath-1.3.0-py3-none-any.whl.metadata (8.6 kB)\n",
            "Collecting MarkupSafe>=2.0 (from jinja2->torch)\n",
            "  Downloading MarkupSafe-3.0.2-cp312-cp312-win_amd64.whl.metadata (4.1 kB)\n",
            "Downloading torch-2.6.0-cp312-cp312-win_amd64.whl (204.1 MB)\n",
            "   ---------------------------------------- 0.0/204.1 MB ? eta -:--:--\n",
            "   ---------------------------------------- 2.4/204.1 MB 16.8 MB/s eta 0:00:13\n",
            "   - -------------------------------------- 9.4/204.1 MB 26.7 MB/s eta 0:00:08\n",
            "   -- ------------------------------------- 14.7/204.1 MB 25.7 MB/s eta 0:00:08\n",
            "   ---- ----------------------------------- 22.8/204.1 MB 32.1 MB/s eta 0:00:06\n",
            "   ----- ---------------------------------- 29.9/204.1 MB 33.3 MB/s eta 0:00:06\n",
            "   -------- ------------------------------- 42.2/204.1 MB 35.3 MB/s eta 0:00:05\n",
            "   ---------- ----------------------------- 51.1/204.1 MB 36.6 MB/s eta 0:00:05\n",
            "   ------------ --------------------------- 61.9/204.1 MB 38.7 MB/s eta 0:00:04\n",
            "   -------------- ------------------------- 72.6/204.1 MB 40.3 MB/s eta 0:00:04\n",
            "   ---------------- ----------------------- 83.4/204.1 MB 41.5 MB/s eta 0:00:03\n",
            "   ----------------- ---------------------- 91.2/204.1 MB 41.3 MB/s eta 0:00:03\n",
            "   ------------------- ------------------- 100.9/204.1 MB 41.8 MB/s eta 0:00:03\n",
            "   --------------------- ----------------- 110.1/204.1 MB 42.1 MB/s eta 0:00:03\n",
            "   ---------------------- ---------------- 119.3/204.1 MB 42.1 MB/s eta 0:00:03\n",
            "   ------------------------ -------------- 129.2/204.1 MB 42.6 MB/s eta 0:00:02\n",
            "   -------------------------- ------------ 139.7/204.1 MB 43.1 MB/s eta 0:00:02\n",
            "   ---------------------------- ---------- 149.4/204.1 MB 43.4 MB/s eta 0:00:02\n",
            "   ------------------------------ -------- 159.1/204.1 MB 43.6 MB/s eta 0:00:02\n",
            "   -------------------------------- ------ 167.8/204.1 MB 43.8 MB/s eta 0:00:01\n",
            "   --------------------------------- ----- 176.7/204.1 MB 43.4 MB/s eta 0:00:01\n",
            "   ----------------------------------- --- 185.3/204.1 MB 43.5 MB/s eta 0:00:01\n",
            "   ------------------------------------- - 196.6/204.1 MB 43.9 MB/s eta 0:00:01\n",
            "   --------------------------------------  203.9/204.1 MB 44.0 MB/s eta 0:00:01\n",
            "   --------------------------------------  203.9/204.1 MB 44.0 MB/s eta 0:00:01\n",
            "   --------------------------------------- 204.1/204.1 MB 41.0 MB/s eta 0:00:00\n",
            "Downloading sympy-1.13.1-py3-none-any.whl (6.2 MB)\n",
            "   ---------------------------------------- 0.0/6.2 MB ? eta -:--:--\n",
            "   ---------------------------------------- 6.2/6.2 MB 42.0 MB/s eta 0:00:00\n",
            "Downloading filelock-3.17.0-py3-none-any.whl (16 kB)\n",
            "Downloading fsspec-2025.2.0-py3-none-any.whl (184 kB)\n",
            "Downloading jinja2-3.1.5-py3-none-any.whl (134 kB)\n",
            "Downloading networkx-3.4.2-py3-none-any.whl (1.7 MB)\n",
            "   ---------------------------------------- 0.0/1.7 MB ? eta -:--:--\n",
            "   ---------------------------------------- 1.7/1.7 MB 47.1 MB/s eta 0:00:00\n",
            "Downloading setuptools-75.8.2-py3-none-any.whl (1.2 MB)\n",
            "   ---------------------------------------- 0.0/1.2 MB ? eta -:--:--\n",
            "   ---------------------------------------- 1.2/1.2 MB 31.2 MB/s eta 0:00:00\n",
            "Downloading MarkupSafe-3.0.2-cp312-cp312-win_amd64.whl (15 kB)\n",
            "Downloading mpmath-1.3.0-py3-none-any.whl (536 kB)\n",
            "   ---------------------------------------- 0.0/536.2 kB ? eta -:--:--\n",
            "   ---------------------------------------- 536.2/536.2 kB 8.8 MB/s eta 0:00:00\n",
            "Installing collected packages: mpmath, sympy, setuptools, networkx, MarkupSafe, fsspec, filelock, jinja2, torch\n",
            "Successfully installed MarkupSafe-3.0.2 filelock-3.17.0 fsspec-2025.2.0 jinja2-3.1.5 mpmath-1.3.0 networkx-3.4.2 setuptools-75.8.2 sympy-1.13.1 torch-2.6.0\n",
            "Note: you may need to restart the kernel to use updated packages.\n"
          ]
        },
        {
          "name": "stderr",
          "output_type": "stream",
          "text": [
            "WARNING: Ignoring invalid distribution ~ (c:\\Users\\nmcoe\\AppData\\Local\\Programs\\Python\\Python312\\Lib\\site-packages)\n",
            "WARNING: Ignoring invalid distribution ~-p (c:\\Users\\nmcoe\\AppData\\Local\\Programs\\Python\\Python312\\Lib\\site-packages)\n",
            "WARNING: Ignoring invalid distribution ~ip (c:\\Users\\nmcoe\\AppData\\Local\\Programs\\Python\\Python312\\Lib\\site-packages)\n",
            "WARNING: Ignoring invalid distribution ~~p (c:\\Users\\nmcoe\\AppData\\Local\\Programs\\Python\\Python312\\Lib\\site-packages)\n",
            "WARNING: Ignoring invalid distribution ~ (c:\\Users\\nmcoe\\AppData\\Local\\Programs\\Python\\Python312\\Lib\\site-packages)\n",
            "WARNING: Ignoring invalid distribution ~-p (c:\\Users\\nmcoe\\AppData\\Local\\Programs\\Python\\Python312\\Lib\\site-packages)\n",
            "WARNING: Ignoring invalid distribution ~ip (c:\\Users\\nmcoe\\AppData\\Local\\Programs\\Python\\Python312\\Lib\\site-packages)\n",
            "WARNING: Ignoring invalid distribution ~~p (c:\\Users\\nmcoe\\AppData\\Local\\Programs\\Python\\Python312\\Lib\\site-packages)\n",
            "WARNING: Ignoring invalid distribution ~ (c:\\Users\\nmcoe\\AppData\\Local\\Programs\\Python\\Python312\\Lib\\site-packages)\n",
            "WARNING: Ignoring invalid distribution ~-p (c:\\Users\\nmcoe\\AppData\\Local\\Programs\\Python\\Python312\\Lib\\site-packages)\n",
            "WARNING: Ignoring invalid distribution ~ip (c:\\Users\\nmcoe\\AppData\\Local\\Programs\\Python\\Python312\\Lib\\site-packages)\n",
            "WARNING: Ignoring invalid distribution ~~p (c:\\Users\\nmcoe\\AppData\\Local\\Programs\\Python\\Python312\\Lib\\site-packages)\n",
            "WARNING: Ignoring invalid distribution ~ (c:\\Users\\nmcoe\\AppData\\Local\\Programs\\Python\\Python312\\Lib\\site-packages)\n",
            "WARNING: Ignoring invalid distribution ~-p (c:\\Users\\nmcoe\\AppData\\Local\\Programs\\Python\\Python312\\Lib\\site-packages)\n",
            "WARNING: Ignoring invalid distribution ~ip (c:\\Users\\nmcoe\\AppData\\Local\\Programs\\Python\\Python312\\Lib\\site-packages)\n",
            "WARNING: Ignoring invalid distribution ~~p (c:\\Users\\nmcoe\\AppData\\Local\\Programs\\Python\\Python312\\Lib\\site-packages)\n"
          ]
        }
      ],
      "source": [
        "pip install torch\n"
      ]
    },
    {
      "cell_type": "code",
      "execution_count": 47,
      "metadata": {},
      "outputs": [],
      "source": [
        "import math\n",
        "import torch\n",
        "import torch.nn as nn\n",
        "import torch.nn.functional as F\n",
        "import matplotlib.pyplot as plt\n",
        "\n",
        "# -------------------------\n",
        "# Positional Encoding Module\n",
        "# -------------------------\n",
        "def get_positional_encoding(max_len, d_model):\n",
        "    \"\"\"\n",
        "    Returns a tensor of shape (1, max_len, d_model) containing the positional encodings.\n",
        "    \"\"\"\n",
        "    pe = torch.zeros(max_len, d_model)\n",
        "    position = torch.arange(0, max_len, dtype=torch.float).unsqueeze(1)\n",
        "    div_term = torch.exp(torch.arange(0, d_model, 2).float() * (-math.log(10000.0) / d_model))\n",
        "    pe[:, 0::2] = torch.sin(position * div_term)\n",
        "    pe[:, 1::2] = torch.cos(position * div_term)\n",
        "    pe = pe.unsqueeze(0)  # Shape: (1, max_len, d_model)\n",
        "    return pe\n",
        "\n",
        "# -------------------------\n",
        "# Transformer Model\n",
        "# -------------------------\n",
        "class SimpleTransformer(nn.Module):\n",
        "    def __init__(self, vocab_size, d_model=128, max_len=70):\n",
        "        \"\"\"\n",
        "        vocab_size: size of vocabulary (number of tokens)\n",
        "        d_model: embedding dimension and model size\n",
        "        max_len: maximum sequence length (should match your padded sequence length)\n",
        "        \"\"\"\n",
        "        super(SimpleTransformer, self).__init__()\n",
        "        self.vocab_size = vocab_size\n",
        "        self.d_model = d_model\n",
        "        self.max_len = max_len\n",
        "        \n",
        "        # Embedding layer for tokens\n",
        "        self.embedding = nn.Embedding(vocab_size, d_model)\n",
        "        \n",
        "        # Pre-computed positional encoding (registered as a buffer)\n",
        "        self.register_buffer('pe', get_positional_encoding(max_len, d_model))\n",
        "        \n",
        "        # Linear layers for computing queries, keys, and values\n",
        "        self.W_q = nn.Linear(d_model, d_model)\n",
        "        self.W_k = nn.Linear(d_model, d_model)\n",
        "        self.W_v = nn.Linear(d_model, d_model)\n",
        "        \n",
        "        # Feed-forward network\n",
        "        self.ff1 = nn.Linear(d_model, d_model)\n",
        "        self.ff2 = nn.Linear(d_model, vocab_size)\n",
        "        \n",
        "        # Layer normalization\n",
        "        self.layer_norm = nn.LayerNorm(d_model)\n",
        "    \n",
        "    def forward(self, x):\n",
        "        \"\"\"\n",
        "        x: tensor of shape (batch_size, seq_len) with token indices\n",
        "        \"\"\"\n",
        "        batch_size, seq_len = x.size()\n",
        "        # Lookup token embeddings and add positional encoding\n",
        "        x = self.embedding(x)  # (batch_size, seq_len, d_model)\n",
        "        x = x + self.pe[:, :seq_len, :]  # Broadcast positional encoding\n",
        "        \n",
        "        # Compute queries, keys, and values\n",
        "        Q = self.W_q(x)  # (batch_size, seq_len, d_model)\n",
        "        K = self.W_k(x)  # (batch_size, seq_len, d_model)\n",
        "        V = self.W_v(x)  # (batch_size, seq_len, d_model)\n",
        "        \n",
        "        # Compute scaled dot-product attention scores\n",
        "        scores = torch.matmul(Q, K.transpose(-2, -1)) / math.sqrt(self.d_model)  # (batch_size, seq_len, seq_len)\n",
        "        \n",
        "        # Create a causal mask to prevent tokens from attending to future tokens\n",
        "        mask = torch.triu(torch.ones(seq_len, seq_len, device=x.device), diagonal=1).bool()\n",
        "        scores = scores.masked_fill(mask, float('-inf'))\n",
        "        \n",
        "        # Apply softmax to get attention weights and compute the attended values\n",
        "        attn_weights = F.softmax(scores, dim=-1)\n",
        "        attended = torch.matmul(attn_weights, V)  # (batch_size, seq_len, d_model)\n",
        "        \n",
        "        # Add residual connection and apply layer normalization\n",
        "        x = self.layer_norm(x + attended)\n",
        "        \n",
        "        # Feed-forward network with ReLU activation\n",
        "        hidden = F.relu(self.ff1(x))\n",
        "        output = self.ff2(hidden)  # (batch_size, seq_len, vocab_size)\n",
        "        return output\n",
        "\n",
        "# -------------------------\n",
        "# Training Setup\n",
        "# -------------------------\n",
        "def train_model(model, optimizer, criterion, X_tensor, y_tensor, num_epochs=100, batch_size=32):\n",
        "    model.train()\n",
        "    loss_history = []\n",
        "    num_samples = X_tensor.size(0)\n",
        "    for epoch in range(num_epochs):\n",
        "        permutation = torch.randperm(num_samples)\n",
        "        epoch_loss = 0.0\n",
        "        for i in range(0, num_samples, batch_size):\n",
        "            indices = permutation[i:i + batch_size]\n",
        "            batch_X = X_tensor[indices]\n",
        "            batch_y = y_tensor[indices]\n",
        "            \n",
        "            optimizer.zero_grad()\n",
        "            output = model(batch_X)  # (batch_size, seq_len, vocab_size)\n",
        "            # Reshape outputs and targets for CrossEntropyLoss:\n",
        "            loss = criterion(output.view(-1, model.vocab_size), batch_y.view(-1))\n",
        "            loss.backward()\n",
        "            optimizer.step()\n",
        "            epoch_loss += loss.item()\n",
        "        avg_loss = epoch_loss / ((num_samples // batch_size) + 1)\n",
        "        loss_history.append(avg_loss)\n",
        "        print(f\"Epoch {epoch+1}/{num_epochs}, Loss: {avg_loss:.4f}\")\n",
        "    return loss_history\n",
        "\n",
        "def plot_loss(loss_history):\n",
        "    plt.plot(range(1, len(loss_history) + 1), loss_history, label='Loss')\n",
        "    plt.xlabel('Epoch')\n",
        "    plt.ylabel('Loss')\n",
        "    plt.title('Loss Over Epochs')\n",
        "    plt.legend()\n",
        "    plt.grid(True)\n",
        "    plt.show()\n",
        "\n",
        "# -------------------------\n",
        "# Example Usage\n",
        "# -------------------------\n",
        "# Suppose you already have your training data as NumPy arrays:\n",
        "# X: shape (num_samples, seq_len), containing token IDs (integer values)\n",
        "# y: shape (num_samples, seq_len), containing target token IDs\n",
        "# For demonstration, let's create some dummy data:\n",
        "num_samples = 100\n",
        "seq_len = 50  # This should be <= max_len defined for the model\n",
        "vocab_size = 330  # Set according to your actual vocabulary size\n",
        "\n",
        "# Generate random token IDs as dummy data\n",
        "X = np.random.randint(0, vocab_size, (num_samples, seq_len))\n",
        "y = np.random.randint(0, vocab_size, (num_samples, seq_len))\n",
        "\n",
        "# Convert NumPy arrays to PyTorch tensors (use torch.long for token indices)\n",
        "X_tensor = torch.tensor(X, dtype=torch.long)\n",
        "y_tensor = torch.tensor(y, dtype=torch.long)\n",
        "\n",
        "\n"
      ]
    },
    {
      "cell_type": "code",
      "execution_count": 48,
      "metadata": {},
      "outputs": [
        {
          "name": "stdout",
          "output_type": "stream",
          "text": [
            "Epoch 1/100, Loss: 5.8284\n",
            "Epoch 2/100, Loss: 5.7763\n",
            "Epoch 3/100, Loss: 5.7394\n",
            "Epoch 4/100, Loss: 5.7218\n",
            "Epoch 5/100, Loss: 5.6877\n",
            "Epoch 6/100, Loss: 5.6711\n",
            "Epoch 7/100, Loss: 5.6325\n",
            "Epoch 8/100, Loss: 5.6033\n",
            "Epoch 9/100, Loss: 5.5610\n",
            "Epoch 10/100, Loss: 5.5140\n",
            "Epoch 11/100, Loss: 5.4887\n",
            "Epoch 12/100, Loss: 5.4123\n",
            "Epoch 13/100, Loss: 5.4033\n",
            "Epoch 14/100, Loss: 5.3689\n",
            "Epoch 15/100, Loss: 5.3172\n",
            "Epoch 16/100, Loss: 5.2974\n",
            "Epoch 17/100, Loss: 5.2228\n",
            "Epoch 18/100, Loss: 5.1951\n",
            "Epoch 19/100, Loss: 5.1322\n",
            "Epoch 20/100, Loss: 5.0072\n",
            "Epoch 21/100, Loss: 5.0472\n",
            "Epoch 22/100, Loss: 4.9496\n",
            "Epoch 23/100, Loss: 4.9000\n",
            "Epoch 24/100, Loss: 4.8447\n",
            "Epoch 25/100, Loss: 4.7797\n",
            "Epoch 26/100, Loss: 4.6660\n",
            "Epoch 27/100, Loss: 4.6397\n",
            "Epoch 28/100, Loss: 4.5264\n",
            "Epoch 29/100, Loss: 4.4101\n",
            "Epoch 30/100, Loss: 4.3607\n",
            "Epoch 31/100, Loss: 4.2799\n",
            "Epoch 32/100, Loss: 4.1514\n",
            "Epoch 33/100, Loss: 4.1745\n",
            "Epoch 34/100, Loss: 4.0473\n",
            "Epoch 35/100, Loss: 3.9624\n",
            "Epoch 36/100, Loss: 3.8702\n",
            "Epoch 37/100, Loss: 3.7985\n",
            "Epoch 38/100, Loss: 3.6931\n",
            "Epoch 39/100, Loss: 3.6383\n",
            "Epoch 40/100, Loss: 3.5910\n",
            "Epoch 41/100, Loss: 3.5136\n",
            "Epoch 42/100, Loss: 3.3851\n",
            "Epoch 43/100, Loss: 3.2960\n",
            "Epoch 44/100, Loss: 3.2062\n",
            "Epoch 45/100, Loss: 3.1217\n",
            "Epoch 46/100, Loss: 2.9858\n",
            "Epoch 47/100, Loss: 3.0199\n",
            "Epoch 48/100, Loss: 2.8554\n",
            "Epoch 49/100, Loss: 2.8470\n",
            "Epoch 50/100, Loss: 2.8279\n",
            "Epoch 51/100, Loss: 2.7349\n",
            "Epoch 52/100, Loss: 2.7416\n",
            "Epoch 53/100, Loss: 2.6962\n",
            "Epoch 54/100, Loss: 2.4937\n",
            "Epoch 55/100, Loss: 2.4732\n",
            "Epoch 56/100, Loss: 2.2818\n",
            "Epoch 57/100, Loss: 2.2344\n",
            "Epoch 58/100, Loss: 2.2997\n",
            "Epoch 59/100, Loss: 2.2316\n",
            "Epoch 60/100, Loss: 2.1322\n",
            "Epoch 61/100, Loss: 2.1244\n",
            "Epoch 62/100, Loss: 2.0393\n",
            "Epoch 63/100, Loss: 1.9275\n",
            "Epoch 64/100, Loss: 1.9456\n",
            "Epoch 65/100, Loss: 1.9110\n",
            "Epoch 66/100, Loss: 1.8345\n",
            "Epoch 67/100, Loss: 1.7536\n",
            "Epoch 68/100, Loss: 1.7829\n",
            "Epoch 69/100, Loss: 1.6140\n",
            "Epoch 70/100, Loss: 1.6230\n",
            "Epoch 71/100, Loss: 1.5397\n",
            "Epoch 72/100, Loss: 1.5425\n",
            "Epoch 73/100, Loss: 1.5553\n",
            "Epoch 74/100, Loss: 1.4250\n",
            "Epoch 75/100, Loss: 1.3509\n",
            "Epoch 76/100, Loss: 1.3565\n",
            "Epoch 77/100, Loss: 1.3456\n",
            "Epoch 78/100, Loss: 1.3416\n",
            "Epoch 79/100, Loss: 1.2245\n",
            "Epoch 80/100, Loss: 1.2057\n",
            "Epoch 81/100, Loss: 1.1196\n",
            "Epoch 82/100, Loss: 1.0989\n",
            "Epoch 83/100, Loss: 1.1020\n",
            "Epoch 84/100, Loss: 1.0486\n",
            "Epoch 85/100, Loss: 1.0449\n",
            "Epoch 86/100, Loss: 1.0462\n",
            "Epoch 87/100, Loss: 0.9363\n",
            "Epoch 88/100, Loss: 0.9375\n",
            "Epoch 89/100, Loss: 0.8898\n",
            "Epoch 90/100, Loss: 0.8524\n",
            "Epoch 91/100, Loss: 0.8508\n",
            "Epoch 92/100, Loss: 0.7455\n",
            "Epoch 93/100, Loss: 0.7543\n",
            "Epoch 94/100, Loss: 0.7221\n",
            "Epoch 95/100, Loss: 0.7117\n",
            "Epoch 96/100, Loss: 0.6830\n",
            "Epoch 97/100, Loss: 0.6381\n",
            "Epoch 98/100, Loss: 0.6192\n",
            "Epoch 99/100, Loss: 0.6389\n",
            "Epoch 100/100, Loss: 0.6219\n"
          ]
        },
        {
          "data": {
            "image/png": "[encoded data removed]",
            "text/plain": [
              "<Figure size 640x480 with 1 Axes>"
            ]
          },
          "metadata": {},
          "output_type": "display_data"
        },
        {
          "name": "stdout",
          "output_type": "stream",
          "text": [
            "Predictions: tensor([[244, 132,  36,  ...,  34, 263, 269],\n",
            "        [254, 253, 245,  ...,  33,  53,  18],\n",
            "        [137, 250,  52,  ...,  55, 138, 231],\n",
            "        ...,\n",
            "        [257,  86,  30,  ..., 130, 244, 276],\n",
            "        [ 66, 232,  89,  ..., 138, 177, 216],\n",
            "        [100,  97, 226,  ..., 194,  70,  74]])\n"
          ]
        }
      ],
      "source": [
        "#Model and Training\n",
        "# Instantiate the model, optimizer, and loss function\n",
        "model = SimpleTransformer(vocab_size=vocab_size, d_model=128, max_len=seq_len)\n",
        "optimizer = torch.optim.Adam(model.parameters(), lr=0.001)\n",
        "criterion = nn.CrossEntropyLoss()\n",
        "\n",
        "# Train the model\n",
        "loss_history = train_model(model, optimizer, criterion, X_tensor, y_tensor,\n",
        "                           num_epochs=100, batch_size=32)\n",
        "\n",
        "# Plot the loss over epochs\n",
        "plot_loss(loss_history)\n",
        "\n",
        "# -------------------------\n",
        "# Prediction Example\n",
        "# -------------------------\n",
        "def predict(model, X_tensor):\n",
        "    model.eval()\n",
        "    with torch.no_grad():\n",
        "        output = model(X_tensor)  # (batch_size, seq_len, vocab_size)\n",
        "        predictions = torch.argmax(output, dim=-1)\n",
        "    return predictions\n",
        "\n",
        "# Predict on the training data (for demonstration)\n",
        "predictions = predict(model, X_tensor)\n",
        "print(\"Predictions:\", predictions)"
      ]
    },
    {
      "cell_type": "markdown",
      "metadata": {
        "id": "ZrbYDnJPaVD3"
      },
      "source": []
    },
    {
      "cell_type": "code",
      "execution_count": 49,
      "metadata": {},
      "outputs": [
        {
          "name": "stdout",
          "output_type": "stream",
          "text": [
            "Generated sequence (token IDs): [1, 2, 266, 30, 35, 230, 205, 86, 127, 139, 205, 310, 321, 216, 320, 228, 153, 263, 30, 101, 14, 244]\n",
            "Word sequence: George Washington leading later government planter further leave stable central further immeasurable ideals understood term excessive were took later peaceful in place\n"
          ]
        }
      ],
      "source": [
        "# Generation loop using the PyTorch model\n",
        "model.eval()  # Set the model to evaluation mode\n",
        "\n",
        "max_tokens = 20\n",
        "# Get the end token ID (using '.' as the end token)\n",
        "end_token = word_to_id.get('.', vocab_size - 1)  # Adjust if needed\n",
        "initial_tokens = [word_to_id.get(word, 0) for word in ['George', 'Washington']]\n",
        "generated_tokens = initial_tokens.copy()\n",
        "\n",
        "# Initialize context: pad on the left if the context is shorter than max_len\n",
        "if len(initial_tokens) < seq_len:\n",
        "    padded_context = [0] * (seq_len - len(initial_tokens)) + initial_tokens\n",
        "else:\n",
        "    padded_context = initial_tokens[-seq_len:]\n",
        "\n",
        "# Autoregressive generation loop\n",
        "for _ in range(max_tokens):\n",
        "    # Prepare input: a tensor of shape (1, seq_len) with our token IDs\n",
        "    input_tensor = torch.tensor([padded_context], dtype=torch.long)\n",
        "    \n",
        "    with torch.no_grad():\n",
        "        # Forward pass: output shape -> (1, seq_len, vocab_size)\n",
        "        output = model(input_tensor)\n",
        "    \n",
        "    # Get the probabilities/logits of the last time step and choose the token with maximum score\n",
        "    last_logits = output[0, -1, :]  # shape: (vocab_size,)\n",
        "    predicted_token = torch.argmax(last_logits).item()\n",
        "    \n",
        "    generated_tokens.append(predicted_token)\n",
        "    \n",
        "    # Update context: remove the oldest token and append the predicted token\n",
        "    padded_context = padded_context[1:] + [predicted_token]\n",
        "    \n",
        "    # If the predicted token is the end token, break early\n",
        "    if predicted_token == end_token:\n",
        "        break\n",
        "\n",
        "# Convert the generated tokens back into words using id_to_word mapping\n",
        "word_sequence = ' '.join(id_to_word.get(token, \"UNKNOWN\") for token in generated_tokens)\n",
        "print(f\"Generated sequence (token IDs): {generated_tokens}\")\n",
        "print(f\"Word sequence: {word_sequence}\")\n"
      ]
    }
  ],
  "metadata": {
    "colab": {
      "private_outputs": true,
      "provenance": []
    },
    "kernelspec": {
      "display_name": "Python 3",
      "name": "python3"
    },
    "language_info": {
      "codemirror_mode": {
        "name": "ipython",
        "version": 3
      },
      "file_extension": ".py",
      "mimetype": "text/x-python",
      "name": "python",
      "nbconvert_exporter": "python",
      "pygments_lexer": "ipython3",
      "version": "3.12.1"
    }
  },
  "nbformat": 4,
  "nbformat_minor": 0
}
